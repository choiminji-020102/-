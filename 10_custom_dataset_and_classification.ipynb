{
  "nbformat": 4,
  "nbformat_minor": 5,
  "metadata": {
    "kernelspec": {
      "display_name": "Python 3",
      "name": "python3"
    },
    "language_info": {
      "codemirror_mode": {
        "name": "ipython",
        "version": 3
      },
      "file_extension": ".py",
      "mimetype": "text/x-python",
      "name": "python",
      "nbconvert_exporter": "python",
      "pygments_lexer": "ipython3",
      "version": "3.7.9"
    },
    "colab": {
      "provenance": [],
      "gpuType": "T4",
      "include_colab_link": true
    },
    "accelerator": "GPU"
  },
  "cells": [
    {
      "cell_type": "markdown",
      "metadata": {
        "id": "view-in-github",
        "colab_type": "text"
      },
      "source": [
        "<a href=\"https://colab.research.google.com/github/choiminji-020102/Image-processing_Deep-learning/blob/main/10_custom_dataset_and_classification.ipynb\" target=\"_parent\"><img src=\"https://colab.research.google.com/assets/colab-badge.svg\" alt=\"Open In Colab\"/></a>"
      ]
    },
    {
      "cell_type": "markdown",
      "metadata": {
        "id": "8b23eb3c-d23d-4875-84d1-de5691d4d750"
      },
      "source": [
        "# Dataset\n",
        "딥러닝은 크게 데이터 준비, 모델 구축, 모델 학습, 모델 평가로 구성됩니다.<br>\n",
        "이번시간에는 첫 번째 단계인 <U>**`데이터셋` 을 구성하고 학습을 위해 가공하는 과정**</U>에 대해 공부해보도록 하겠습니다.<br>"
      ],
      "id": "8b23eb3c-d23d-4875-84d1-de5691d4d750"
    },
    {
      "cell_type": "code",
      "source": [],
      "metadata": {
        "id": "jWco73ArVHyp"
      },
      "id": "jWco73ArVHyp",
      "execution_count": null,
      "outputs": []
    },
    {
      "cell_type": "markdown",
      "metadata": {
        "id": "64bcddce-f98a-4b4e-84e9-ac16216f2891"
      },
      "source": [
        "## 0. 데이터셋 다운받기\n",
        "\n",
        "**<span style=\"color:red\">※ 이번실습에서는 1번~4번까지의 과정을 수행하지 않으셔도 됩니다. (스마트리드 첨부자료 사용)<br> 향후 과제를 진행하실 때 참고하시기 바랍니다.</span>**\n",
        "\n",
        "### [데이터셋 다운]\n",
        "1. https://www.kaggle.com/jessicali9530/caltech256/version/2 <br>\n",
        "페이지 상단에 있는 `Download(1 GB)`버튼 누르기\n",
        "<img src='https://user-images.githubusercontent.com/46768752/138972510-22507274-7013-49b1-9c3c-0557abce64ee.png' alt='다운로드 버튼' width='500'>\n",
        "\n",
        "2. 로그인 후, 다시 버튼눌러서 데이터셋 다운받기\n",
        "3. 다운받아진 `archive.zip` 파일 압축 풀기\n",
        "4. `256_ObjectCategories` 폴더에 들어가서 200여개의 카테고리와 해당 이미지가 들어있는 것 확인해보기\n",
        "\n",
        "### [colab 사용]\n",
        "5. colab 런타임 유형 변경하기\n",
        "    - 왼쪽 상단에 `런타임` 버튼 누르기 -> `런타임 유형 변경` 버튼 누르기 -> None을 GPU로 바꾸기<br>\n",
        "\n",
        "6. bathtub, bear, beer-mug 카테고리의 이미지 사용하여 진행 <br>\n",
        "   세 폴더에서 마음에 드는 사진 10장씩 골라 colab에 이미지 업로드하기\n",
        "    - 1) colab 왼쪽 bar에서 폴더아이콘 누르기 <br>\n",
        "    - 2) 마우스 우클릭 --> 새 폴더 --> 'data' 라는 폴더 만들기 <br>\n",
        "    - 3) 만들어진 data 폴더에 마우스 갖다놓고 2번과 동일한 방법으로 train 폴더 만들기\n",
        "    - 4) 동일한 방법으로 train 폴더 안에 bathtub, bear, beer-mug 폴더 만들기\n",
        "    - 5) 마음에 드는 사진 10장 골라서 각 클래스 폴더 안에 넣기 <br>\n",
        "    (사진 선택해서 해당 폴더에 드래그 하면 업로드 할 수 있습니다.)\n",
        "    \n",
        "위 과정을 모두 완료 한다면 데이터셋은 다음과 같은 형태로 구성됩니다.\n",
        "\n",
        "<p align=\"center\"><img src='https://user-images.githubusercontent.com/46768752/138975455-2fee8a3a-8a60-4e42-81e0-002911ebf621.png' alt='데이터셋 구성' /></p>\n"
      ],
      "id": "64bcddce-f98a-4b4e-84e9-ac16216f2891"
    },
    {
      "cell_type": "code",
      "source": [
        "from google.colab import drive\n",
        "drive.mount('/content/drive')"
      ],
      "metadata": {
        "colab": {
          "base_uri": "https://localhost:8080/"
        },
        "id": "oxLaPLkc9yg-",
        "outputId": "c4b68e5d-1552-47d3-abc5-0ba1bdbc38cd"
      },
      "id": "oxLaPLkc9yg-",
      "execution_count": null,
      "outputs": [
        {
          "output_type": "stream",
          "name": "stdout",
          "text": [
            "Mounted at /content/drive\n"
          ]
        }
      ]
    },
    {
      "cell_type": "markdown",
      "metadata": {
        "id": "46cc1c04-f856-4266-9b6e-2577509aab2f"
      },
      "source": [
        "## 1. 데이터셋 구성하기\n",
        "\n",
        "**데이터셋 구성 과정**은 다음과 같습니다. <br>\n",
        "> 1) 데이터셋이 저장되어 있는 경로를 파악합니다. <br>\n",
        "> 2) 데이터 이름(name)과 클래스(class), 그리고 학습을 위해 클래스(class)를 숫자로 나타낸 타겟(target)을 csv 파일에 저장합니다.\n"
      ],
      "id": "46cc1c04-f856-4266-9b6e-2577509aab2f"
    },
    {
      "cell_type": "markdown",
      "metadata": {
        "id": "f8434d7a-9d00-444b-a4df-a52f5a1fc811"
      },
      "source": [
        "- 우선, 필요한 module을 import 해줍니다."
      ],
      "id": "f8434d7a-9d00-444b-a4df-a52f5a1fc811"
    },
    {
      "cell_type": "code",
      "metadata": {
        "id": "022e9129-9694-408d-93f8-9d6b63e36773"
      },
      "source": [
        "# 사용할 데이터 준비하기\n",
        "# https://www.kaggle.com/jessicali9530/caltech256/version/2\n",
        "import os\n",
        "from glob import glob\n",
        "import pandas as pd\n",
        "import matplotlib.pyplot as plt"
      ],
      "id": "022e9129-9694-408d-93f8-9d6b63e36773",
      "execution_count": null,
      "outputs": []
    },
    {
      "cell_type": "markdown",
      "metadata": {
        "id": "c6edf166-c678-4e8a-bab5-a391659446ab"
      },
      "source": [
        "현재 데이터는 다음과 같은 형태로 file과 directory가 구성되어 있습니다.\n",
        "\n",
        "```\n",
        "./data/train/bathtub/xxx.jpg\n",
        "./data/train/bathtub/xxx.jpg\n",
        "\n",
        "./data/train/bear/xxx.jpg\n",
        "./data/train/bear/xxx.jpg\n",
        "\n",
        "./data/train/beer-mug/xxx.jpg\n",
        "./data/train/beer-mug/xxx.jpg\n",
        "```\n",
        "\n",
        "- 각 클래스(backpack, butterfly, coin)별로 디렉토리가 따로 구성되어 있음을 알 수 있습니다.\n",
        "- `glob`를 통해 파일경로를 리스트로 받아옵니다."
      ],
      "id": "c6edf166-c678-4e8a-bab5-a391659446ab"
    },
    {
      "cell_type": "code",
      "metadata": {
        "id": "fa197462-f97b-4205-a92f-126ac094478d"
      },
      "source": [
        "# file_path = '/content/drive/MyDrive/Colab Notebooks/영상처리와딥러닝/data/train/*/*.jpg'\n",
        "\n",
        "# file_list = glob(file_path)\n",
        "# file_list"
      ],
      "id": "fa197462-f97b-4205-a92f-126ac094478d",
      "execution_count": null,
      "outputs": []
    },
    {
      "cell_type": "markdown",
      "metadata": {
        "id": "c745ed22-1901-41e2-96b4-d454a012c9af"
      },
      "source": [
        "- 해당 클래스를 학습에서 사용하기 위해 bathtub는 0으로, bear는 1로, 마지막으로 beer-mug는 3으로 설정하여 `target`이라는 항목에 저장합니다.\n",
        "- 데이터 이름과 클래스, 타겟을 `pd.DataFrame`을 통해 dataframe으로 구성한 후 `csv`파일로 만들어줍니다."
      ],
      "id": "c745ed22-1901-41e2-96b4-d454a012c9af"
    },
    {
      "cell_type": "code",
      "metadata": {
        "id": "e393ec60-05fa-4034-b2a8-ba898ccf1072"
      },
      "source": [
        "# data_dict = {'image_name':[], 'class':[], 'target':[], 'file_path':[]}\n",
        "# target_dict = {'bathtub':0, 'bear':1, 'beer-mug':2}\n",
        "\n",
        "# for path in file_list:\n",
        "\n",
        "#     data_dict['file_path'].append(path) # file_path 항목에 파일 경로 저장\n",
        "\n",
        "#     path_list = path.split(os.path.sep) # os별 파일 경로 구분 문자로 split\n",
        "#     print(path_list)\n",
        "\n",
        "#     data_dict['image_name'].append(path_list[-1])\n",
        "#     data_dict['class'].append(path_list[-2])\n",
        "#     data_dict['target'].append(target_dict[path_list[-2]])\n",
        "\n",
        "# train_df = pd.DataFrame(data_dict)\n",
        "# print('\\n<data frame>\\n', train_df)\n",
        "\n",
        "# train_df.to_csv(\"/content/drive/MyDrive/Colab Notebooks/영상처리와딥러닝/data/train.csv\", mode='w')"
      ],
      "id": "e393ec60-05fa-4034-b2a8-ba898ccf1072",
      "execution_count": null,
      "outputs": []
    },
    {
      "cell_type": "markdown",
      "metadata": {
        "id": "09f4c6aa-f21b-4e3f-810c-75d3cdf11ca2"
      },
      "source": [
        "## 2. 데이터셋 불러오기\n",
        "\n",
        "- `1.데이터셋 구성하기` 에서 저장했던 `train.csv` 파일을 통해 데이터셋을 불러옵니다.\n",
        "- `scikit learn의 train_test_split`를 사용하여 데이터셋을 train, validation, test로 나눠줍니다.\n"
      ],
      "id": "09f4c6aa-f21b-4e3f-810c-75d3cdf11ca2"
    },
    {
      "cell_type": "code",
      "metadata": {
        "id": "79a69c61-9468-4733-8d05-c7355bb1ad1c"
      },
      "source": [
        "# from sklearn.model_selection import train_test_split\n",
        "\n",
        "# def get_df():\n",
        "\n",
        "#     # cvs 파일 읽어서 DataFrame으로 저장\n",
        "#     df = pd.read_csv('/content/drive/MyDrive/Colab Notebooks/영상처리와딥러닝/data/train.csv')\n",
        "\n",
        "#     # 데이터셋을 train, val, test로 나누기\n",
        "#     df_train, df_test = train_test_split(df, test_size=0.2, random_state=2359)\n",
        "#     df_train, df_val = train_test_split(df_train, test_size=0.2, random_state=2359)\n",
        "\n",
        "#     return df_train, df_val, df_test"
      ],
      "id": "79a69c61-9468-4733-8d05-c7355bb1ad1c",
      "execution_count": null,
      "outputs": []
    },
    {
      "cell_type": "code",
      "metadata": {
        "id": "Ayq4txSyY2Zx"
      },
      "source": [
        "file_path = '/content/drive/MyDrive/Colab Notebooks/영상처리와딥러닝/data_mj/*/*.jpeg'\n",
        "\n",
        "file_list = glob(file_path)\n",
        "file_list"
      ],
      "execution_count": null,
      "outputs": [],
      "id": "Ayq4txSyY2Zx"
    },
    {
      "cell_type": "markdown",
      "metadata": {
        "id": "OW6emmkqY2Zy"
      },
      "source": [
        "- 해당 클래스를 학습에서 사용하기 위해 karina는 0으로, winter는 1로, ningning은 2으로, giselle은 3로 설정하여 `target`이라는 항목에 저장합니다.\n"
      ],
      "id": "OW6emmkqY2Zy"
    },
    {
      "cell_type": "code",
      "metadata": {
        "id": "LSC2V8HaY2Zy"
      },
      "source": [
        "data_dict = {'image_name':[], 'class':[], 'target':[], 'file_path':[]}\n",
        "target_dict = {'karina':0, 'winter':1, 'ningning':2, 'giselle':3}\n",
        "\n",
        "for path in file_list:\n",
        "\n",
        "    data_dict['file_path'].append(path) # file_path 항목에 파일 경로 저장\n",
        "\n",
        "    path_list = path.split(os.path.sep) # os별 파일 경로 구분 문자로 split\n",
        "    print(path_list)\n",
        "\n",
        "    data_dict['image_name'].append(path_list[-1])\n",
        "    data_dict['class'].append(path_list[-2])\n",
        "    data_dict['target'].append(target_dict[path_list[-2]])\n",
        "\n",
        "train_df = pd.DataFrame(data_dict)\n",
        "print('\\n<data frame>\\n', train_df)\n",
        "\n",
        "train_df.to_csv(\"/content/drive/MyDrive/Colab Notebooks/영상처리와딥러닝/data_mj/train.csv\", mode='w')"
      ],
      "execution_count": null,
      "outputs": [],
      "id": "LSC2V8HaY2Zy"
    },
    {
      "cell_type": "markdown",
      "metadata": {
        "id": "9twp4lL1Y2Zz"
      },
      "source": [
        "## 2. 데이터셋 불러오기"
      ],
      "id": "9twp4lL1Y2Zz"
    },
    {
      "cell_type": "code",
      "metadata": {
        "id": "Rcl3VfBLY2Zz"
      },
      "source": [
        "from sklearn.model_selection import train_test_split\n",
        "\n",
        "def get_df():\n",
        "\n",
        "    # cvs 파일 읽어서 DataFrame으로 저장\n",
        "    df = pd.read_csv('/content/drive/MyDrive/Colab Notebooks/영상처리와딥러닝/data_mj/train.csv')\n",
        "\n",
        "    # 데이터셋을 train, val, test로 나누기\n",
        "    df_train, df_test = train_test_split(df, test_size=0.2, random_state=2359)\n",
        "    df_train, df_val = train_test_split(df_train, test_size=0.2, random_state=2359)\n",
        "\n",
        "    return df_train, df_val, df_test"
      ],
      "execution_count": null,
      "outputs": [],
      "id": "Rcl3VfBLY2Zz"
    },
    {
      "cell_type": "code",
      "metadata": {
        "colab": {
          "base_uri": "https://localhost:8080/"
        },
        "id": "2c3eab9e-9cb0-4dac-8266-fe2911a65ed1",
        "outputId": "d7453dd1-4a0c-4ea3-cfb8-97c2e90ec5f5"
      },
      "source": [
        "# 데이터셋 읽어오기\n",
        "df_train, df_val, df_test = get_df()\n",
        "print(len(df_train), len(df_val), len(df_test))"
      ],
      "id": "2c3eab9e-9cb0-4dac-8266-fe2911a65ed1",
      "execution_count": null,
      "outputs": [
        {
          "output_type": "stream",
          "name": "stdout",
          "text": [
            "25 7 8\n"
          ]
        }
      ]
    },
    {
      "cell_type": "markdown",
      "metadata": {
        "id": "7a569b1d-77d8-4ed4-bc9f-f9bc887bc992"
      },
      "source": [
        "## 3. 학습시, 데이터셋을 사용할 수 있도록 만들기"
      ],
      "id": "7a569b1d-77d8-4ed4-bc9f-f9bc887bc992"
    },
    {
      "cell_type": "markdown",
      "metadata": {
        "id": "ce67f0d1-e667-4336-8187-91f1bce6d2ff"
      },
      "source": [
        "### 3-1. Dataset Class\n",
        "- pytorch가 dataset을 어떻게 읽을지 알려주는 class입니다.\n",
        "- `__len__`과 `__getitem__` 부분은 필수적으로 필요한 method입니다.\n",
        "\n",
        "\n",
        "```python\n",
        "class 내가만든_데이터셋(Dataset):\n",
        "    def __init__(self, csv, mode, meta_features, transform=None):\n",
        "        # 데이터셋 초기화\n",
        "    def __len__(self):\n",
        "        # 데이터셋 크기 리턴\n",
        "        return self.csv.shape[0]\n",
        "    def __getitem__(self, index):\n",
        "        # 인덱스에 해당하는 이미지 리턴\n",
        "    return data, torch.tensor(self.csv.iloc[index].target).long()\n",
        "\n",
        "```"
      ],
      "id": "ce67f0d1-e667-4336-8187-91f1bce6d2ff"
    },
    {
      "cell_type": "code",
      "metadata": {
        "id": "31d03450-19f8-4c7f-ad70-aebe9a71384f"
      },
      "source": [
        "import torch\n",
        "from torch.utils.data import Dataset\n",
        "from PIL import Image\n",
        "\n",
        "class Classification_Dataset(Dataset):\n",
        "    def __init__(self, csv, mode, transform=None):\n",
        "        self.csv = csv.reset_index(drop=True)  # random으로 섞인 데이터의 인덱스를 reset 시켜서 다시 부여한다.\n",
        "        self.transform = transform\n",
        "\n",
        "    def __len__(self):\n",
        "        return self.csv.shape[0]  # csv 파일의 행 개수 == 데이터 개수\n",
        "\n",
        "    def __getitem__(self, index):\n",
        "        row = self.csv.iloc[index]                       # 주어진 index에 대한 데이터 뽑아오기\n",
        "        image = Image.open(row.file_path).convert('RGB') # 파일경로로 부터 이미지를 읽고 rgb로 변환하기\n",
        "        target = torch.tensor(self.csv.iloc[index].target).long()\n",
        "\n",
        "        if self.transform:\n",
        "            image = self.transform(image) # 이미지에 transform 적용하기\n",
        "\n",
        "        return image, target  # 이미지와 target return하기"
      ],
      "id": "31d03450-19f8-4c7f-ad70-aebe9a71384f",
      "execution_count": null,
      "outputs": []
    },
    {
      "cell_type": "markdown",
      "metadata": {
        "id": "681f2b14-f1b7-488d-bca5-cc7b5ab74f89"
      },
      "source": [
        "- `csv.reset_index(drop=True)` 는 아래 결과를 통해 역할을 알 수 있습니다."
      ],
      "id": "681f2b14-f1b7-488d-bca5-cc7b5ab74f89"
    },
    {
      "cell_type": "code",
      "metadata": {
        "id": "810a45ae-4ef2-4b06-90d7-ff08b0699b7d"
      },
      "source": [
        "df_train"
      ],
      "id": "810a45ae-4ef2-4b06-90d7-ff08b0699b7d",
      "execution_count": null,
      "outputs": []
    },
    {
      "cell_type": "code",
      "metadata": {
        "id": "4810905a-3ad8-472a-8b47-74287820bf3d"
      },
      "source": [
        "df_train.reset_index(drop=True)"
      ],
      "id": "4810905a-3ad8-472a-8b47-74287820bf3d",
      "execution_count": null,
      "outputs": []
    },
    {
      "cell_type": "markdown",
      "metadata": {
        "id": "f2b7cd85-3196-4e6e-a72b-7bbc6d43011e"
      },
      "source": [
        "- `Classification_Dataset`에서 `__len__`과 `__getitem__`의 결과를 확인해보겠습니다."
      ],
      "id": "f2b7cd85-3196-4e6e-a72b-7bbc6d43011e"
    },
    {
      "cell_type": "code",
      "metadata": {
        "colab": {
          "base_uri": "https://localhost:8080/"
        },
        "id": "8260e18a-6e19-4ff4-a725-fa42cdcfe710",
        "outputId": "a404b8d2-5c85-44fb-ac4e-6541d0b18f0f"
      },
      "source": [
        "from torchvision import transforms\n",
        "dataset_train = Classification_Dataset(df_train, 'train', transform=transforms.ToTensor())\n",
        "\n",
        "print(f'>> 데이터 셋 전체 크기, 개수, sample개수 : {dataset_train.__len__()}')\n",
        "print(f'>> i번째 데이터 불러오기 : dataset_train.__getitem__(i)')\n",
        "print(f'>> 0번째 데이터 불러와지는 형태 : tuple (이미지 픽셀값, target)\\n : {dataset_train.__getitem__(0)}')"
      ],
      "id": "8260e18a-6e19-4ff4-a725-fa42cdcfe710",
      "execution_count": null,
      "outputs": [
        {
          "output_type": "stream",
          "name": "stdout",
          "text": [
            ">> 데이터 셋 전체 크기, 개수, sample개수 : 25\n",
            ">> i번째 데이터 불러오기 : dataset_train.__getitem__(i)\n",
            ">> 0번째 데이터 불러와지는 형태 : tuple (이미지 픽셀값, target)\n",
            " : (tensor([[[0.0000, 0.0000, 0.0000,  ..., 0.0000, 0.0000, 0.0000],\n",
            "         [0.0000, 0.0000, 0.0000,  ..., 0.0039, 0.0000, 0.0000],\n",
            "         [0.0000, 0.0000, 0.0000,  ..., 0.0039, 0.0039, 0.0000],\n",
            "         ...,\n",
            "         [0.0157, 0.0157, 0.0118,  ..., 0.0431, 0.0588, 0.0667],\n",
            "         [0.0235, 0.0196, 0.0118,  ..., 0.0196, 0.0392, 0.0471],\n",
            "         [0.0275, 0.0196, 0.0118,  ..., 0.0157, 0.0314, 0.0353]],\n",
            "\n",
            "        [[0.2824, 0.2824, 0.2863,  ..., 0.2510, 0.2510, 0.2510],\n",
            "         [0.2863, 0.2863, 0.2863,  ..., 0.2549, 0.2510, 0.2510],\n",
            "         [0.2863, 0.2863, 0.2863,  ..., 0.2549, 0.2549, 0.2510],\n",
            "         ...,\n",
            "         [0.3490, 0.3490, 0.3412,  ..., 0.3569, 0.3725, 0.3804],\n",
            "         [0.3529, 0.3490, 0.3412,  ..., 0.3490, 0.3569, 0.3647],\n",
            "         [0.3569, 0.3490, 0.3412,  ..., 0.3529, 0.3490, 0.3529]],\n",
            "\n",
            "        [[0.3176, 0.3176, 0.3216,  ..., 0.2902, 0.2902, 0.2902],\n",
            "         [0.3216, 0.3216, 0.3216,  ..., 0.2941, 0.2902, 0.2902],\n",
            "         [0.3216, 0.3216, 0.3216,  ..., 0.2902, 0.2902, 0.2863],\n",
            "         ...,\n",
            "         [0.3765, 0.3765, 0.3804,  ..., 0.4549, 0.4706, 0.4784],\n",
            "         [0.3922, 0.3882, 0.3804,  ..., 0.4510, 0.4627, 0.4706],\n",
            "         [0.3961, 0.3882, 0.3804,  ..., 0.4588, 0.4627, 0.4667]]]), tensor(0))\n"
          ]
        }
      ]
    },
    {
      "cell_type": "markdown",
      "metadata": {
        "id": "600ea90c-cf74-478f-b502-6a07db95aad2"
      },
      "source": [
        "### 3-2. Transforms & Augmentation\n",
        "#### [Transforms]\n",
        "- 구축한 데이터셋에서 이미지 파일은 서로 크기가 다를 수 있기 때문에, <U>같은 크기</U>로 맞춰주어야 합니다.\n",
        "    - `transforms.Normalize([r채널의 mean, g채널의 mean, b채널의 mean], [r채널의 std, g채널의 std, b채널의 std])` : normalize\n",
        "    - `transforms.Resize()` : 크기 변경\n",
        "    - `transforms.CenterCrop()`, `transforms.RandomResizedCrop()` : 잘라내기\n",
        "\n",
        "- 예시\n",
        "```python\n",
        "transform = transforms.Compose([transforms.Resize(255),\n",
        "                                transforms.CenterCrop(224),\n",
        "                                transforms.ToTensor(),\n",
        "                                transforms.Normalize([0.5, 0.5, 0.5], [0.5, 0.5, 0.5])\n",
        "                               ])\n",
        "```\n",
        "- `transforms.Normalize()`는 이미지의 픽셀값을 정규화하는 과정입니다. <br>\n",
        "본 과정을 수행해야 원활하게 학습이 이루어지게 됩니다.\n",
        "3개의 채널로 구성되어 있는 이미지의 경우 아래와 같이 normalize 됩니다.\n",
        "\n",
        "    - `input[channel] = (input[channel] - mean[channel]) / std[channel]`\n",
        "    - 입력 픽셀값에 mean을 빼주게 되면 픽셀값이 0을 중심으로 두게 변형되고, std를 나누면 픽셀값이 -1과 1 사이로 분포를 이루게 됩니다.\n",
        "    - 채널별 mean, std를 구하는 방법은 아래에 나와있습니다.\n",
        "\n",
        "\n",
        "\n",
        "\n",
        "#### [Augmentation]\n",
        "- 일반적으로 데이터의 양이 많을수록 좋은 성능을 갖기 때문에, 데이터를 random하게 변경하여 새로운 데이터로 사용하여 학습 시 사용하는 <U>데이터의 양을 늘릴</U> 수 있습니다.\n",
        "- 입력 이미지를 랜덤하게 변경함으로써 모델이 풀어야 할 문제(예:이미지 클래스 맞추기)를 더 어렵게 만들어 <U>overfitting을 방지</U>하는 데에도 도움이 됩니다.\n",
        "- https://pytorch.org/vision/stable/transforms.html 에서 더 많은 예시를 보실 수 있습니다.\n",
        "- 예시\n",
        "    - `transforms.RandomRotation` : 랜덤하게 회전하기\n",
        "    - `transforms.RandomHorizontalFlip()` : 랜덤하게 수평으로 뒤집기"
      ],
      "id": "600ea90c-cf74-478f-b502-6a07db95aad2"
    },
    {
      "cell_type": "code",
      "metadata": {
        "colab": {
          "base_uri": "https://localhost:8080/"
        },
        "id": "e9dd94dc-15d4-4b89-bb1e-6f5a55d5cb11",
        "outputId": "d014dea0-c030-406e-d1ef-5857aa5f7880"
      },
      "source": [
        "# normalize를 위해 rgb 채널의 mean, std 값 구하기\n",
        "\n",
        "import numpy as np\n",
        "\n",
        "dataset_train = Classification_Dataset(df_train, 'train', transform=transforms.ToTensor())\n",
        "\n",
        "# 데이터(shape:torch.Size([3, 381, 343])) rgb에 대한 mean, std 구하기\n",
        "rgb_mean = [np.mean(x.numpy(), axis=(1,2)) for x,_ in dataset_train]\n",
        "rgb_std = [np.std(x.numpy(), axis=(1,2)) for x,_ in dataset_train]\n",
        "\n",
        "\n",
        "# 각 데이터 채널별로 mean, std 나타내기\n",
        "c_mean = []\n",
        "c_std = []\n",
        "for i in range(3):\n",
        "    c_mean.append(np.mean([m[i] for m in rgb_mean]))\n",
        "    c_std.append(np.std([s[i] for s in rgb_std]))\n",
        "\n",
        "print(f'rgb mean: {c_mean}\\nrgb std: {c_std}')"
      ],
      "id": "e9dd94dc-15d4-4b89-bb1e-6f5a55d5cb11",
      "execution_count": null,
      "outputs": [
        {
          "output_type": "stream",
          "name": "stdout",
          "text": [
            "rgb mean: [0.53354925, 0.49781215, 0.49590632]\n",
            "rgb std: [0.06730388, 0.051390026, 0.053963047]\n"
          ]
        }
      ]
    },
    {
      "cell_type": "code",
      "metadata": {
        "id": "ef5a3fa7-a6ee-464d-beee-8191a246b954"
      },
      "source": [
        "from torchvision import transforms\n",
        "\n",
        "def get_transforms(image_size):\n",
        "\n",
        "    transforms_train = transforms.Compose([\n",
        "                                       transforms.RandomRotation(30),\n",
        "                                       transforms.RandomResizedCrop(image_size),\n",
        "                                       transforms.RandomHorizontalFlip(),\n",
        "                                       transforms.ToTensor(),\n",
        "                                       transforms.Normalize([0.5438486, 0.51331395, 0.4501529],\n",
        "                                                            [0.07585379, 0.07164218, 0.08385534])])\n",
        "\n",
        "    transforms_val = transforms.Compose([transforms.Resize(image_size+30),\n",
        "                                      transforms.CenterCrop(image_size),\n",
        "                                      transforms.ToTensor(),\n",
        "                                      transforms.Normalize([0.5438486, 0.51331395, 0.4501529],\n",
        "                                                            [0.07585379, 0.07164218, 0.08385534])])\n",
        "\n",
        "    return transforms_train, transforms_val"
      ],
      "id": "ef5a3fa7-a6ee-464d-beee-8191a246b954",
      "execution_count": null,
      "outputs": []
    },
    {
      "cell_type": "code",
      "metadata": {
        "id": "e0d69648-4d63-4423-bee9-5421e10cb371"
      },
      "source": [
        "# 모델 트랜스폼 가져오기\n",
        "transforms_train, transforms_val = get_transforms(224)"
      ],
      "id": "e0d69648-4d63-4423-bee9-5421e10cb371",
      "execution_count": null,
      "outputs": []
    },
    {
      "cell_type": "code",
      "metadata": {
        "id": "a8a44886-3010-4c51-981d-be40024568f4"
      },
      "source": [
        "# dataset class 객체 만들기\n",
        "dataset_train = Classification_Dataset(df_train, 'train', transform=transforms_train)\n",
        "dataset_val = Classification_Dataset(df_val, 'valid', transform=transforms_val)"
      ],
      "id": "a8a44886-3010-4c51-981d-be40024568f4",
      "execution_count": null,
      "outputs": []
    },
    {
      "cell_type": "markdown",
      "metadata": {
        "id": "c4cf08d3-11db-4765-a853-b29dd1636cff"
      },
      "source": [
        "### 3-3. Data Loaders\n",
        "- `DataLoader`는 `Classification_Dataset`으로 받아온 데이터(이미지, target)를 **batch**로 묶어 return합니다."
      ],
      "id": "c4cf08d3-11db-4765-a853-b29dd1636cff"
    },
    {
      "cell_type": "code",
      "metadata": {
        "id": "54e95d17-da4a-468a-abb7-392cb04d2faa"
      },
      "source": [
        "from torch.utils.data.sampler import RandomSampler\n",
        "from torch.utils.data import DataLoader\n",
        "\n",
        "train_loader = torch.utils.data.DataLoader(dataset_train, batch_size=5, sampler=RandomSampler(dataset_train), num_workers=0)\n",
        "valid_loader = torch.utils.data.DataLoader(dataset_val, batch_size=5, num_workers=0)"
      ],
      "id": "54e95d17-da4a-468a-abb7-392cb04d2faa",
      "execution_count": null,
      "outputs": []
    },
    {
      "cell_type": "markdown",
      "metadata": {
        "id": "3fd07e81-fb52-4cb6-b0d1-59f6d29796e5"
      },
      "source": [
        "- 해당 DataLoader는 generator로, 다음과 같이 데이터를 불러올 수 있습니다."
      ],
      "id": "3fd07e81-fb52-4cb6-b0d1-59f6d29796e5"
    },
    {
      "cell_type": "code",
      "metadata": {
        "colab": {
          "base_uri": "https://localhost:8080/"
        },
        "id": "7d4ea928-356c-49fd-a2ff-2ccfb382f597",
        "outputId": "edc84916-5bdb-44cb-ac82-d85899908908"
      },
      "source": [
        "for images, targets in train_loader:\n",
        "    print(f'[batch, channel, ...] : {images.shape}')\n",
        "    print(targets.shape)"
      ],
      "id": "7d4ea928-356c-49fd-a2ff-2ccfb382f597",
      "execution_count": null,
      "outputs": [
        {
          "output_type": "stream",
          "name": "stdout",
          "text": [
            "[batch, channel, ...] : torch.Size([5, 3, 224, 224])\n",
            "torch.Size([5])\n",
            "[batch, channel, ...] : torch.Size([5, 3, 224, 224])\n",
            "torch.Size([5])\n",
            "[batch, channel, ...] : torch.Size([5, 3, 224, 224])\n",
            "torch.Size([5])\n",
            "[batch, channel, ...] : torch.Size([5, 3, 224, 224])\n",
            "torch.Size([5])\n",
            "[batch, channel, ...] : torch.Size([5, 3, 224, 224])\n",
            "torch.Size([5])\n"
          ]
        }
      ]
    },
    {
      "cell_type": "markdown",
      "metadata": {
        "id": "fed49940-f1aa-4116-8733-298f4e441965"
      },
      "source": [
        "#### 데이터 준비 파트는 마무리가 되었습니다. 큰 틀을 살펴보면서 정리해보도록 하겠습니다.\n",
        "\n",
        "- `0. 데이터셋 다운받기`: 여러분이 수집한 데이터의 클래스별로 폴더를 구성하여 데이터셋을 준비합니다.\n",
        "- `1. 데이터셋 구성하기`: 저장한 데이터의 정보를 csv 파일로 만듭니다.\n",
        "- `2. 데이터셋 불러오기`: csv 파일을 통해 데이터를 불러와서 train, validation, test로 나눠줍니다.\n",
        "- `3. 학습 시, 데이터셋을 사용할 수 있도록 만들기`\n",
        "    - `3-1. Dataset Class`: pytorch가 dataset을 어떻게 읽을지 알려주는 클래스를 만듭니다. (데이터셋 크기와 지정한 인덱스별로 데이터를 리턴해주는 len, getitem 함수가 포함되어 있습니다.)\n",
        "    - `3-2. Transforms & Augmentation`: 학습을 위해 데이터를 가공합니다.\n",
        "    - `3-3. Data Loaders`: 배치별로 데이터를 묶어줍니다. Training시, 배치단위별로 데이터가 호출됩니다.\n",
        "\n",
        "___"
      ],
      "id": "fed49940-f1aa-4116-8733-298f4e441965"
    },
    {
      "cell_type": "markdown",
      "metadata": {
        "id": "808efab9-2468-49fc-a760-d1ba37f0f8dd"
      },
      "source": [
        "# 4. Model\n",
        "\n",
        "`VGG16` 모델을 transfer learning하는 방식으로 진행합니다. <br>\n",
        "자세한 예는 https://pytorch.org/vision/stable/models.html 에 나와있습니다.\n",
        "\n",
        "<img src='https://user-images.githubusercontent.com/46768752/138986562-1cbfcd9a-da6b-45e8-b4ae-3b2af0d2ae16.png'>"
      ],
      "id": "808efab9-2468-49fc-a760-d1ba37f0f8dd"
    },
    {
      "cell_type": "code",
      "metadata": {
        "colab": {
          "base_uri": "https://localhost:8080/"
        },
        "id": "c2ef8231-1612-465b-ba4d-56b1eadac493",
        "outputId": "5be03e3c-af61-49c8-e386-b93586c00bed"
      },
      "source": [
        "from torchvision import models\n",
        "from collections import OrderedDict\n",
        "import torch.nn as nn\n",
        "\n",
        "model = models.vgg16(pretrained=True)\n",
        "# model"
      ],
      "id": "c2ef8231-1612-465b-ba4d-56b1eadac493",
      "execution_count": null,
      "outputs": [
        {
          "output_type": "stream",
          "name": "stderr",
          "text": [
            "/usr/local/lib/python3.10/dist-packages/torchvision/models/_utils.py:208: UserWarning: The parameter 'pretrained' is deprecated since 0.13 and may be removed in the future, please use 'weights' instead.\n",
            "  warnings.warn(\n",
            "/usr/local/lib/python3.10/dist-packages/torchvision/models/_utils.py:223: UserWarning: Arguments other than a weight enum or `None` for 'weights' are deprecated since 0.13 and may be removed in the future. The current behavior is equivalent to passing `weights=VGG16_Weights.IMAGENET1K_V1`. You can also use `weights=VGG16_Weights.DEFAULT` to get the most up-to-date weights.\n",
            "  warnings.warn(msg)\n",
            "Downloading: \"https://download.pytorch.org/models/vgg16-397923af.pth\" to /root/.cache/torch/hub/checkpoints/vgg16-397923af.pth\n",
            "100%|██████████| 528M/528M [00:04<00:00, 132MB/s]\n"
          ]
        }
      ]
    },
    {
      "cell_type": "code",
      "metadata": {
        "id": "c158f42b-1cc1-4009-bcc8-b61b2f18021f"
      },
      "source": [
        "# Backprop을 수행하지 않도록 parameter들을 동결시키기\n",
        "# 재학습을 위해, 모든 parameters의 gradient를 꺼놓기\n",
        "for param in model.parameters():\n",
        "    param.requires_grad = False\n",
        "\n",
        "# 마지막 layer를 과제에 맞게 수정하기\n",
        "classifier = nn.Sequential(OrderedDict([\n",
        "                          ('fc1', nn.Linear(25088, 500)),\n",
        "                          ('relu', nn.ReLU()),\n",
        "                          ('fc2', nn.Linear(500, 4))\n",
        "                          ]))\n",
        "\n",
        "model.classifier = classifier"
      ],
      "id": "c158f42b-1cc1-4009-bcc8-b61b2f18021f",
      "execution_count": null,
      "outputs": []
    },
    {
      "cell_type": "markdown",
      "metadata": {
        "id": "eca08a10-670c-4fe1-a75a-96da2510e5e9"
      },
      "source": [
        "# 5. Training"
      ],
      "id": "eca08a10-670c-4fe1-a75a-96da2510e5e9"
    },
    {
      "cell_type": "code",
      "metadata": {
        "id": "8463b730-4ec7-4f65-af67-de534129d704"
      },
      "source": [
        "import numpy as np\n",
        "import cv2\n",
        "import random\n",
        "import time\n",
        "import torch.optim as optim\n",
        "\n",
        "from tqdm import tqdm"
      ],
      "id": "8463b730-4ec7-4f65-af67-de534129d704",
      "execution_count": null,
      "outputs": []
    },
    {
      "cell_type": "markdown",
      "metadata": {
        "id": "39ff4a46-c355-4d42-b55d-d643921a6f0b"
      },
      "source": [
        "## 3-1. Train"
      ],
      "id": "39ff4a46-c355-4d42-b55d-d643921a6f0b"
    },
    {
      "cell_type": "code",
      "metadata": {
        "id": "ba1bda19-f612-4047-9055-01f749becfde"
      },
      "source": [
        "def train_epoch(model, loader, device, criterion, optimizer):\n",
        "\n",
        "    model.train()   # 모델 train 모드로 바꾸기\n",
        "    train_loss = []\n",
        "    bar = tqdm(loader)\n",
        "    for i, (data, target) in enumerate(bar):\n",
        "\n",
        "        optimizer.zero_grad()  # 최적화된 모든 변수 초기화\n",
        "\n",
        "        data, target = data.to(device), target.to(device)  # 지정한 device로 데이터 옮기기\n",
        "        logits = model(data)              # 1. forward pass\n",
        "\n",
        "        loss = criterion(logits, target)  # 2. loss 계산\n",
        "        loss.backward()                   # 3. backward pass\n",
        "\n",
        "        optimizer.step()                  # 4. gradient descent(파라미터 업데이트)\n",
        "\n",
        "        loss_np = loss.detach().cpu().numpy() # loss값 가져오기 위해 gpu에 있던 데이터 모두 cpu로 옮기기\n",
        "        train_loss.append(loss_np)\n",
        "        bar.set_description('loss: %.5f' % (loss_np))\n",
        "\n",
        "    train_loss = np.mean(train_loss)  # 한 epoch당 train loss의 평균 구하기\n",
        "    return train_loss"
      ],
      "id": "ba1bda19-f612-4047-9055-01f749becfde",
      "execution_count": null,
      "outputs": []
    },
    {
      "cell_type": "markdown",
      "metadata": {
        "id": "bea0f489-30a4-4cdd-9a79-ec1180de8401"
      },
      "source": [
        "## 3-2. Validation"
      ],
      "id": "bea0f489-30a4-4cdd-9a79-ec1180de8401"
    },
    {
      "cell_type": "code",
      "metadata": {
        "id": "a4048512-6a0e-42fb-a1f0-880a749bf67f"
      },
      "source": [
        "def val_epoch(model, loader, device, criterion):  # loader: Classification_Dataset으로 받아온 데이터(이미지, target)를 batch로 묶어 return\n",
        "\n",
        "    model.eval()  # 모델 evaluate 모드로 바꾸기\n",
        "    val_loss = []\n",
        "    LOGITS = []\n",
        "    PROBS = []\n",
        "    TARGETS = []\n",
        "    with torch.no_grad():\n",
        "        for (data, target) in tqdm(loader):\n",
        "\n",
        "            data, target = data.to(device), target.to(device) # 지정한 device로 데이터 옮기기\n",
        "            logits = model(data) # 1. forward pass\n",
        "            probs = logits.softmax(1)  # 다중분류 -> 각 클래스일 확률을 전체 1로 두고 계산하기\n",
        "\n",
        "            LOGITS.append(logits.detach().cpu())\n",
        "            PROBS.append(probs.detach().cpu())\n",
        "            TARGETS.append(target.detach().cpu())\n",
        "\n",
        "            loss = criterion(logits, target) # 2. loss 계산\n",
        "            val_loss.append(loss.detach().cpu().numpy())\n",
        "\n",
        "    val_loss = np.mean(val_loss)\n",
        "    LOGITS = torch.cat(LOGITS).numpy()\n",
        "    PROBS = torch.cat(PROBS).numpy()\n",
        "    TARGETS = torch.cat(TARGETS).numpy()\n",
        "\n",
        "    # accuracy : 정확도\n",
        "    acc = (PROBS.argmax(1) == TARGETS).mean() * 100.\n",
        "\n",
        "    return val_loss, acc"
      ],
      "id": "a4048512-6a0e-42fb-a1f0-880a749bf67f",
      "execution_count": null,
      "outputs": []
    },
    {
      "cell_type": "markdown",
      "metadata": {
        "id": "c9e249b7-1b43-4b9a-8835-a34c63f8a9b5"
      },
      "source": [
        "## 3-3. 학습시키기"
      ],
      "id": "c9e249b7-1b43-4b9a-8835-a34c63f8a9b5"
    },
    {
      "cell_type": "code",
      "metadata": {
        "id": "9ecca30b-be34-43a5-aac3-49f8a9b35971"
      },
      "source": [
        "train_loss_list = []\n",
        "val_loss_list = []\n",
        "def run(model, init_lr, n_epochs):\n",
        "\n",
        "    # gpu 사용\n",
        "    device = torch.device('cuda' if torch.cuda.is_available() else 'cpu')\n",
        "\n",
        "    # model을 지정한 장치로 옮기기\n",
        "    model = model.to(device)\n",
        "\n",
        "    # loss function 지정\n",
        "    criterion= nn.CrossEntropyLoss()\n",
        "\n",
        "    # optimizer로 adam 사용\n",
        "    optimizer = optim.Adam(model.parameters(), lr=init_lr)\n",
        "\n",
        "    for epoch in range(1, n_epochs + 1):\n",
        "        print(time.ctime(), f'Epoch {epoch}')\n",
        "\n",
        "        train_loss = train_epoch(model, train_loader, device, criterion, optimizer) # train\n",
        "        val_loss, acc = val_epoch(model, valid_loader, device, criterion) # validation\n",
        "\n",
        "        train_loss_list.append(train_loss)\n",
        "        val_loss_list.append(val_loss)\n",
        "        content = time.ctime() + ' ' + f'Epoch {epoch}, lr: {optimizer.param_groups[0][\"lr\"]:.7f}, train loss: {train_loss:.5f}, valid loss: {(val_loss):.5f}, Acc: {(acc):.4f}.'\n",
        "        print(content)\n",
        "\n",
        "    torch.save(model.state_dict(), 'best_model.pth')\n"
      ],
      "id": "9ecca30b-be34-43a5-aac3-49f8a9b35971",
      "execution_count": null,
      "outputs": []
    },
    {
      "cell_type": "code",
      "metadata": {
        "colab": {
          "base_uri": "https://localhost:8080/"
        },
        "id": "a06e8ea3-6bc7-454b-8c34-49fdd4a4eb79",
        "outputId": "1fcc5dc8-688b-41d8-d090-5c380a2f85a3"
      },
      "source": [
        "run(model, init_lr=4e-6, n_epochs=100)"
      ],
      "id": "a06e8ea3-6bc7-454b-8c34-49fdd4a4eb79",
      "execution_count": null,
      "outputs": [
        {
          "output_type": "stream",
          "name": "stdout",
          "text": [
            "Tue Nov  7 08:02:24 2023 Epoch 1\n"
          ]
        },
        {
          "output_type": "stream",
          "name": "stderr",
          "text": [
            "loss: 0.34125: 100%|██████████| 5/5 [00:00<00:00,  5.51it/s]\n",
            "100%|██████████| 2/2 [00:00<00:00,  8.51it/s]\n"
          ]
        },
        {
          "output_type": "stream",
          "name": "stdout",
          "text": [
            "Tue Nov  7 08:02:25 2023 Epoch 1, lr: 0.0000040, train loss: 0.25332, valid loss: 2.26704, Acc: 0.0000.\n",
            "Tue Nov  7 08:02:25 2023 Epoch 2\n"
          ]
        },
        {
          "output_type": "stream",
          "name": "stderr",
          "text": [
            "loss: 0.05847: 100%|██████████| 5/5 [00:00<00:00,  6.84it/s]\n",
            "100%|██████████| 2/2 [00:00<00:00, 14.11it/s]\n"
          ]
        },
        {
          "output_type": "stream",
          "name": "stdout",
          "text": [
            "Tue Nov  7 08:02:26 2023 Epoch 2, lr: 0.0000040, train loss: 0.28459, valid loss: 2.20761, Acc: 0.0000.\n",
            "Tue Nov  7 08:02:26 2023 Epoch 3\n"
          ]
        },
        {
          "output_type": "stream",
          "name": "stderr",
          "text": [
            "loss: 0.22630: 100%|██████████| 5/5 [00:00<00:00,  5.08it/s]\n",
            "100%|██████████| 2/2 [00:00<00:00,  6.98it/s]\n"
          ]
        },
        {
          "output_type": "stream",
          "name": "stdout",
          "text": [
            "Tue Nov  7 08:02:28 2023 Epoch 3, lr: 0.0000040, train loss: 0.23152, valid loss: 2.30108, Acc: 0.0000.\n",
            "Tue Nov  7 08:02:28 2023 Epoch 4\n"
          ]
        },
        {
          "output_type": "stream",
          "name": "stderr",
          "text": [
            "loss: 0.09888: 100%|██████████| 5/5 [00:01<00:00,  4.30it/s]\n",
            "100%|██████████| 2/2 [00:00<00:00,  6.47it/s]\n"
          ]
        },
        {
          "output_type": "stream",
          "name": "stdout",
          "text": [
            "Tue Nov  7 08:02:29 2023 Epoch 4, lr: 0.0000040, train loss: 0.29779, valid loss: 2.37414, Acc: 0.0000.\n",
            "Tue Nov  7 08:02:29 2023 Epoch 5\n"
          ]
        },
        {
          "output_type": "stream",
          "name": "stderr",
          "text": [
            "loss: 0.20758: 100%|██████████| 5/5 [00:01<00:00,  3.91it/s]\n",
            "100%|██████████| 2/2 [00:00<00:00,  5.70it/s]\n"
          ]
        },
        {
          "output_type": "stream",
          "name": "stdout",
          "text": [
            "Tue Nov  7 08:02:31 2023 Epoch 5, lr: 0.0000040, train loss: 0.24375, valid loss: 2.47770, Acc: 0.0000.\n",
            "Tue Nov  7 08:02:31 2023 Epoch 6\n"
          ]
        },
        {
          "output_type": "stream",
          "name": "stderr",
          "text": [
            "loss: 0.31348: 100%|██████████| 5/5 [00:01<00:00,  3.95it/s]\n",
            "100%|██████████| 2/2 [00:00<00:00,  7.90it/s]\n"
          ]
        },
        {
          "output_type": "stream",
          "name": "stdout",
          "text": [
            "Tue Nov  7 08:02:32 2023 Epoch 6, lr: 0.0000040, train loss: 0.25139, valid loss: 2.51861, Acc: 0.0000.\n",
            "Tue Nov  7 08:02:32 2023 Epoch 7\n"
          ]
        },
        {
          "output_type": "stream",
          "name": "stderr",
          "text": [
            "loss: 0.26316: 100%|██████████| 5/5 [00:00<00:00,  6.43it/s]\n",
            "100%|██████████| 2/2 [00:00<00:00, 10.35it/s]\n"
          ]
        },
        {
          "output_type": "stream",
          "name": "stdout",
          "text": [
            "Tue Nov  7 08:02:33 2023 Epoch 7, lr: 0.0000040, train loss: 0.28497, valid loss: 2.49146, Acc: 0.0000.\n",
            "Tue Nov  7 08:02:33 2023 Epoch 8\n"
          ]
        },
        {
          "output_type": "stream",
          "name": "stderr",
          "text": [
            "loss: 0.06429: 100%|██████████| 5/5 [00:00<00:00,  8.34it/s]\n",
            "100%|██████████| 2/2 [00:00<00:00, 15.62it/s]\n"
          ]
        },
        {
          "output_type": "stream",
          "name": "stdout",
          "text": [
            "Tue Nov  7 08:02:34 2023 Epoch 8, lr: 0.0000040, train loss: 0.34648, valid loss: 2.45682, Acc: 0.0000.\n",
            "Tue Nov  7 08:02:34 2023 Epoch 9\n"
          ]
        },
        {
          "output_type": "stream",
          "name": "stderr",
          "text": [
            "loss: 0.06679: 100%|██████████| 5/5 [00:00<00:00,  7.31it/s]\n",
            "100%|██████████| 2/2 [00:00<00:00, 13.41it/s]\n"
          ]
        },
        {
          "output_type": "stream",
          "name": "stdout",
          "text": [
            "Tue Nov  7 08:02:35 2023 Epoch 9, lr: 0.0000040, train loss: 0.21778, valid loss: 2.39212, Acc: 0.0000.\n",
            "Tue Nov  7 08:02:35 2023 Epoch 10\n"
          ]
        },
        {
          "output_type": "stream",
          "name": "stderr",
          "text": [
            "loss: 0.06107: 100%|██████████| 5/5 [00:00<00:00,  7.05it/s]\n",
            "100%|██████████| 2/2 [00:00<00:00, 10.24it/s]\n"
          ]
        },
        {
          "output_type": "stream",
          "name": "stdout",
          "text": [
            "Tue Nov  7 08:02:36 2023 Epoch 10, lr: 0.0000040, train loss: 0.26963, valid loss: 2.37927, Acc: 0.0000.\n",
            "Tue Nov  7 08:02:36 2023 Epoch 11\n"
          ]
        },
        {
          "output_type": "stream",
          "name": "stderr",
          "text": [
            "loss: 0.21121: 100%|██████████| 5/5 [00:00<00:00,  6.03it/s]\n",
            "100%|██████████| 2/2 [00:00<00:00, 12.82it/s]\n"
          ]
        },
        {
          "output_type": "stream",
          "name": "stdout",
          "text": [
            "Tue Nov  7 08:02:37 2023 Epoch 11, lr: 0.0000040, train loss: 0.28705, valid loss: 2.41174, Acc: 0.0000.\n",
            "Tue Nov  7 08:02:37 2023 Epoch 12\n"
          ]
        },
        {
          "output_type": "stream",
          "name": "stderr",
          "text": [
            "loss: 1.06156: 100%|██████████| 5/5 [00:00<00:00,  7.06it/s]\n",
            "100%|██████████| 2/2 [00:00<00:00, 10.37it/s]\n"
          ]
        },
        {
          "output_type": "stream",
          "name": "stdout",
          "text": [
            "Tue Nov  7 08:02:38 2023 Epoch 12, lr: 0.0000040, train loss: 0.36130, valid loss: 2.43668, Acc: 0.0000.\n",
            "Tue Nov  7 08:02:38 2023 Epoch 13\n"
          ]
        },
        {
          "output_type": "stream",
          "name": "stderr",
          "text": [
            "loss: 0.14929: 100%|██████████| 5/5 [00:01<00:00,  4.66it/s]\n",
            "100%|██████████| 2/2 [00:00<00:00,  9.35it/s]\n"
          ]
        },
        {
          "output_type": "stream",
          "name": "stdout",
          "text": [
            "Tue Nov  7 08:02:39 2023 Epoch 13, lr: 0.0000040, train loss: 0.16396, valid loss: 2.45514, Acc: 0.0000.\n",
            "Tue Nov  7 08:02:39 2023 Epoch 14\n"
          ]
        },
        {
          "output_type": "stream",
          "name": "stderr",
          "text": [
            "loss: 0.03189: 100%|██████████| 5/5 [00:00<00:00,  9.83it/s]\n",
            "100%|██████████| 2/2 [00:00<00:00, 18.94it/s]\n"
          ]
        },
        {
          "output_type": "stream",
          "name": "stdout",
          "text": [
            "Tue Nov  7 08:02:40 2023 Epoch 14, lr: 0.0000040, train loss: 0.22836, valid loss: 2.39488, Acc: 14.2857.\n",
            "Tue Nov  7 08:02:40 2023 Epoch 15\n"
          ]
        },
        {
          "output_type": "stream",
          "name": "stderr",
          "text": [
            "loss: 0.05906: 100%|██████████| 5/5 [00:00<00:00, 11.97it/s]\n",
            "100%|██████████| 2/2 [00:00<00:00, 21.22it/s]\n"
          ]
        },
        {
          "output_type": "stream",
          "name": "stdout",
          "text": [
            "Tue Nov  7 08:02:40 2023 Epoch 15, lr: 0.0000040, train loss: 0.29233, valid loss: 2.36482, Acc: 14.2857.\n",
            "Tue Nov  7 08:02:40 2023 Epoch 16\n"
          ]
        },
        {
          "output_type": "stream",
          "name": "stderr",
          "text": [
            "loss: 0.09219: 100%|██████████| 5/5 [00:00<00:00, 11.78it/s]\n",
            "100%|██████████| 2/2 [00:00<00:00, 21.57it/s]\n"
          ]
        },
        {
          "output_type": "stream",
          "name": "stdout",
          "text": [
            "Tue Nov  7 08:02:41 2023 Epoch 16, lr: 0.0000040, train loss: 0.20342, valid loss: 2.39124, Acc: 14.2857.\n",
            "Tue Nov  7 08:02:41 2023 Epoch 17\n"
          ]
        },
        {
          "output_type": "stream",
          "name": "stderr",
          "text": [
            "loss: 0.27186: 100%|██████████| 5/5 [00:00<00:00, 12.66it/s]\n",
            "100%|██████████| 2/2 [00:00<00:00, 22.13it/s]\n"
          ]
        },
        {
          "output_type": "stream",
          "name": "stdout",
          "text": [
            "Tue Nov  7 08:02:42 2023 Epoch 17, lr: 0.0000040, train loss: 0.27329, valid loss: 2.44878, Acc: 0.0000.\n",
            "Tue Nov  7 08:02:42 2023 Epoch 18\n"
          ]
        },
        {
          "output_type": "stream",
          "name": "stderr",
          "text": [
            "loss: 0.03918: 100%|██████████| 5/5 [00:00<00:00, 12.39it/s]\n",
            "100%|██████████| 2/2 [00:00<00:00, 22.05it/s]\n"
          ]
        },
        {
          "output_type": "stream",
          "name": "stdout",
          "text": [
            "Tue Nov  7 08:02:42 2023 Epoch 18, lr: 0.0000040, train loss: 0.12999, valid loss: 2.46913, Acc: 0.0000.\n",
            "Tue Nov  7 08:02:42 2023 Epoch 19\n"
          ]
        },
        {
          "output_type": "stream",
          "name": "stderr",
          "text": [
            "loss: 0.69290: 100%|██████████| 5/5 [00:00<00:00, 12.20it/s]\n",
            "100%|██████████| 2/2 [00:00<00:00, 18.80it/s]\n"
          ]
        },
        {
          "output_type": "stream",
          "name": "stdout",
          "text": [
            "Tue Nov  7 08:02:43 2023 Epoch 19, lr: 0.0000040, train loss: 0.35006, valid loss: 2.47408, Acc: 0.0000.\n",
            "Tue Nov  7 08:02:43 2023 Epoch 20\n"
          ]
        },
        {
          "output_type": "stream",
          "name": "stderr",
          "text": [
            "loss: 0.14009: 100%|██████████| 5/5 [00:00<00:00, 10.52it/s]\n",
            "100%|██████████| 2/2 [00:00<00:00, 19.16it/s]\n"
          ]
        },
        {
          "output_type": "stream",
          "name": "stdout",
          "text": [
            "Tue Nov  7 08:02:43 2023 Epoch 20, lr: 0.0000040, train loss: 0.23480, valid loss: 2.46149, Acc: 14.2857.\n",
            "Tue Nov  7 08:02:43 2023 Epoch 21\n"
          ]
        },
        {
          "output_type": "stream",
          "name": "stderr",
          "text": [
            "loss: 0.74592: 100%|██████████| 5/5 [00:00<00:00, 11.05it/s]\n",
            "100%|██████████| 2/2 [00:00<00:00, 17.89it/s]\n"
          ]
        },
        {
          "output_type": "stream",
          "name": "stdout",
          "text": [
            "Tue Nov  7 08:02:44 2023 Epoch 21, lr: 0.0000040, train loss: 0.40042, valid loss: 2.46730, Acc: 14.2857.\n",
            "Tue Nov  7 08:02:44 2023 Epoch 22\n"
          ]
        },
        {
          "output_type": "stream",
          "name": "stderr",
          "text": [
            "loss: 0.41524: 100%|██████████| 5/5 [00:00<00:00, 10.83it/s]\n",
            "100%|██████████| 2/2 [00:00<00:00, 18.59it/s]\n"
          ]
        },
        {
          "output_type": "stream",
          "name": "stdout",
          "text": [
            "Tue Nov  7 08:02:44 2023 Epoch 22, lr: 0.0000040, train loss: 0.16887, valid loss: 2.45124, Acc: 14.2857.\n",
            "Tue Nov  7 08:02:44 2023 Epoch 23\n"
          ]
        },
        {
          "output_type": "stream",
          "name": "stderr",
          "text": [
            "loss: 0.52692: 100%|██████████| 5/5 [00:00<00:00,  9.78it/s]\n",
            "100%|██████████| 2/2 [00:00<00:00, 18.47it/s]\n"
          ]
        },
        {
          "output_type": "stream",
          "name": "stdout",
          "text": [
            "Tue Nov  7 08:02:45 2023 Epoch 23, lr: 0.0000040, train loss: 0.14080, valid loss: 2.44119, Acc: 14.2857.\n",
            "Tue Nov  7 08:02:45 2023 Epoch 24\n"
          ]
        },
        {
          "output_type": "stream",
          "name": "stderr",
          "text": [
            "loss: 0.26450: 100%|██████████| 5/5 [00:00<00:00, 10.23it/s]\n",
            "100%|██████████| 2/2 [00:00<00:00, 18.89it/s]\n"
          ]
        },
        {
          "output_type": "stream",
          "name": "stdout",
          "text": [
            "Tue Nov  7 08:02:46 2023 Epoch 24, lr: 0.0000040, train loss: 0.41746, valid loss: 2.45671, Acc: 14.2857.\n",
            "Tue Nov  7 08:02:46 2023 Epoch 25\n"
          ]
        },
        {
          "output_type": "stream",
          "name": "stderr",
          "text": [
            "loss: 0.27829: 100%|██████████| 5/5 [00:00<00:00,  9.50it/s]\n",
            "100%|██████████| 2/2 [00:00<00:00, 17.14it/s]\n"
          ]
        },
        {
          "output_type": "stream",
          "name": "stdout",
          "text": [
            "Tue Nov  7 08:02:46 2023 Epoch 25, lr: 0.0000040, train loss: 0.19464, valid loss: 2.41030, Acc: 14.2857.\n",
            "Tue Nov  7 08:02:46 2023 Epoch 26\n"
          ]
        },
        {
          "output_type": "stream",
          "name": "stderr",
          "text": [
            "loss: 0.19081: 100%|██████████| 5/5 [00:00<00:00, 10.11it/s]\n",
            "100%|██████████| 2/2 [00:00<00:00, 17.94it/s]\n"
          ]
        },
        {
          "output_type": "stream",
          "name": "stdout",
          "text": [
            "Tue Nov  7 08:02:47 2023 Epoch 26, lr: 0.0000040, train loss: 0.28890, valid loss: 2.40545, Acc: 14.2857.\n",
            "Tue Nov  7 08:02:47 2023 Epoch 27\n"
          ]
        },
        {
          "output_type": "stream",
          "name": "stderr",
          "text": [
            "loss: 0.06971: 100%|██████████| 5/5 [00:00<00:00,  9.71it/s]\n",
            "100%|██████████| 2/2 [00:00<00:00, 16.74it/s]\n"
          ]
        },
        {
          "output_type": "stream",
          "name": "stdout",
          "text": [
            "Tue Nov  7 08:02:48 2023 Epoch 27, lr: 0.0000040, train loss: 0.22491, valid loss: 2.45516, Acc: 14.2857.\n",
            "Tue Nov  7 08:02:48 2023 Epoch 28\n"
          ]
        },
        {
          "output_type": "stream",
          "name": "stderr",
          "text": [
            "loss: 0.18875: 100%|██████████| 5/5 [00:00<00:00, 11.67it/s]\n",
            "100%|██████████| 2/2 [00:00<00:00, 21.10it/s]\n"
          ]
        },
        {
          "output_type": "stream",
          "name": "stdout",
          "text": [
            "Tue Nov  7 08:02:48 2023 Epoch 28, lr: 0.0000040, train loss: 0.21026, valid loss: 2.52755, Acc: 14.2857.\n",
            "Tue Nov  7 08:02:48 2023 Epoch 29\n"
          ]
        },
        {
          "output_type": "stream",
          "name": "stderr",
          "text": [
            "loss: 0.54110: 100%|██████████| 5/5 [00:00<00:00, 11.99it/s]\n",
            "100%|██████████| 2/2 [00:00<00:00, 20.73it/s]\n"
          ]
        },
        {
          "output_type": "stream",
          "name": "stdout",
          "text": [
            "Tue Nov  7 08:02:49 2023 Epoch 29, lr: 0.0000040, train loss: 0.25212, valid loss: 2.56491, Acc: 14.2857.\n",
            "Tue Nov  7 08:02:49 2023 Epoch 30\n"
          ]
        },
        {
          "output_type": "stream",
          "name": "stderr",
          "text": [
            "loss: 0.22418: 100%|██████████| 5/5 [00:00<00:00, 12.06it/s]\n",
            "100%|██████████| 2/2 [00:00<00:00, 23.15it/s]\n"
          ]
        },
        {
          "output_type": "stream",
          "name": "stdout",
          "text": [
            "Tue Nov  7 08:02:49 2023 Epoch 30, lr: 0.0000040, train loss: 0.31942, valid loss: 2.55689, Acc: 14.2857.\n",
            "Tue Nov  7 08:02:49 2023 Epoch 31\n"
          ]
        },
        {
          "output_type": "stream",
          "name": "stderr",
          "text": [
            "loss: 0.02071: 100%|██████████| 5/5 [00:00<00:00, 12.41it/s]\n",
            "100%|██████████| 2/2 [00:00<00:00, 21.03it/s]\n"
          ]
        },
        {
          "output_type": "stream",
          "name": "stdout",
          "text": [
            "Tue Nov  7 08:02:50 2023 Epoch 31, lr: 0.0000040, train loss: 0.19668, valid loss: 2.49263, Acc: 14.2857.\n",
            "Tue Nov  7 08:02:50 2023 Epoch 32\n"
          ]
        },
        {
          "output_type": "stream",
          "name": "stderr",
          "text": [
            "loss: 0.14545: 100%|██████████| 5/5 [00:00<00:00, 11.88it/s]\n",
            "100%|██████████| 2/2 [00:00<00:00, 21.62it/s]\n"
          ]
        },
        {
          "output_type": "stream",
          "name": "stdout",
          "text": [
            "Tue Nov  7 08:02:50 2023 Epoch 32, lr: 0.0000040, train loss: 0.31800, valid loss: 2.46167, Acc: 14.2857.\n",
            "Tue Nov  7 08:02:50 2023 Epoch 33\n"
          ]
        },
        {
          "output_type": "stream",
          "name": "stderr",
          "text": [
            "loss: 0.19498: 100%|██████████| 5/5 [00:00<00:00, 12.13it/s]\n",
            "100%|██████████| 2/2 [00:00<00:00, 19.40it/s]\n"
          ]
        },
        {
          "output_type": "stream",
          "name": "stdout",
          "text": [
            "Tue Nov  7 08:02:51 2023 Epoch 33, lr: 0.0000040, train loss: 0.40376, valid loss: 2.42381, Acc: 0.0000.\n",
            "Tue Nov  7 08:02:51 2023 Epoch 34\n"
          ]
        },
        {
          "output_type": "stream",
          "name": "stderr",
          "text": [
            "loss: 0.05193: 100%|██████████| 5/5 [00:00<00:00, 11.75it/s]\n",
            "100%|██████████| 2/2 [00:00<00:00, 22.40it/s]\n"
          ]
        },
        {
          "output_type": "stream",
          "name": "stdout",
          "text": [
            "Tue Nov  7 08:02:51 2023 Epoch 34, lr: 0.0000040, train loss: 0.19794, valid loss: 2.42416, Acc: 0.0000.\n",
            "Tue Nov  7 08:02:51 2023 Epoch 35\n"
          ]
        },
        {
          "output_type": "stream",
          "name": "stderr",
          "text": [
            "loss: 0.04394: 100%|██████████| 5/5 [00:00<00:00, 11.67it/s]\n",
            "100%|██████████| 2/2 [00:00<00:00, 21.27it/s]\n"
          ]
        },
        {
          "output_type": "stream",
          "name": "stdout",
          "text": [
            "Tue Nov  7 08:02:52 2023 Epoch 35, lr: 0.0000040, train loss: 0.10700, valid loss: 2.43121, Acc: 0.0000.\n",
            "Tue Nov  7 08:02:52 2023 Epoch 36\n"
          ]
        },
        {
          "output_type": "stream",
          "name": "stderr",
          "text": [
            "loss: 0.02252: 100%|██████████| 5/5 [00:00<00:00, 11.72it/s]\n",
            "100%|██████████| 2/2 [00:00<00:00, 21.27it/s]\n"
          ]
        },
        {
          "output_type": "stream",
          "name": "stdout",
          "text": [
            "Tue Nov  7 08:02:52 2023 Epoch 36, lr: 0.0000040, train loss: 0.17445, valid loss: 2.47579, Acc: 14.2857.\n",
            "Tue Nov  7 08:02:52 2023 Epoch 37\n"
          ]
        },
        {
          "output_type": "stream",
          "name": "stderr",
          "text": [
            "loss: 0.51286: 100%|██████████| 5/5 [00:00<00:00, 12.46it/s]\n",
            "100%|██████████| 2/2 [00:00<00:00, 21.50it/s]\n"
          ]
        },
        {
          "output_type": "stream",
          "name": "stdout",
          "text": [
            "Tue Nov  7 08:02:53 2023 Epoch 37, lr: 0.0000040, train loss: 0.27955, valid loss: 2.50008, Acc: 0.0000.\n",
            "Tue Nov  7 08:02:53 2023 Epoch 38\n"
          ]
        },
        {
          "output_type": "stream",
          "name": "stderr",
          "text": [
            "loss: 0.44995: 100%|██████████| 5/5 [00:00<00:00, 12.68it/s]\n",
            "100%|██████████| 2/2 [00:00<00:00, 20.81it/s]\n"
          ]
        },
        {
          "output_type": "stream",
          "name": "stdout",
          "text": [
            "Tue Nov  7 08:02:53 2023 Epoch 38, lr: 0.0000040, train loss: 0.28258, valid loss: 2.49399, Acc: 0.0000.\n",
            "Tue Nov  7 08:02:53 2023 Epoch 39\n"
          ]
        },
        {
          "output_type": "stream",
          "name": "stderr",
          "text": [
            "loss: 0.30825: 100%|██████████| 5/5 [00:00<00:00, 12.39it/s]\n",
            "100%|██████████| 2/2 [00:00<00:00, 21.83it/s]\n"
          ]
        },
        {
          "output_type": "stream",
          "name": "stdout",
          "text": [
            "Tue Nov  7 08:02:54 2023 Epoch 39, lr: 0.0000040, train loss: 0.11847, valid loss: 2.52059, Acc: 0.0000.\n",
            "Tue Nov  7 08:02:54 2023 Epoch 40\n"
          ]
        },
        {
          "output_type": "stream",
          "name": "stderr",
          "text": [
            "loss: 0.02354: 100%|██████████| 5/5 [00:00<00:00, 12.76it/s]\n",
            "100%|██████████| 2/2 [00:00<00:00, 21.17it/s]\n"
          ]
        },
        {
          "output_type": "stream",
          "name": "stdout",
          "text": [
            "Tue Nov  7 08:02:54 2023 Epoch 40, lr: 0.0000040, train loss: 0.28869, valid loss: 2.58098, Acc: 0.0000.\n",
            "Tue Nov  7 08:02:54 2023 Epoch 41\n"
          ]
        },
        {
          "output_type": "stream",
          "name": "stderr",
          "text": [
            "loss: 0.13268: 100%|██████████| 5/5 [00:00<00:00, 12.37it/s]\n",
            "100%|██████████| 2/2 [00:00<00:00, 21.70it/s]\n"
          ]
        },
        {
          "output_type": "stream",
          "name": "stdout",
          "text": [
            "Tue Nov  7 08:02:55 2023 Epoch 41, lr: 0.0000040, train loss: 0.18244, valid loss: 2.61627, Acc: 0.0000.\n",
            "Tue Nov  7 08:02:55 2023 Epoch 42\n"
          ]
        },
        {
          "output_type": "stream",
          "name": "stderr",
          "text": [
            "loss: 0.18491: 100%|██████████| 5/5 [00:00<00:00, 12.44it/s]\n",
            "100%|██████████| 2/2 [00:00<00:00, 21.30it/s]\n"
          ]
        },
        {
          "output_type": "stream",
          "name": "stdout",
          "text": [
            "Tue Nov  7 08:02:55 2023 Epoch 42, lr: 0.0000040, train loss: 0.19173, valid loss: 2.62541, Acc: 0.0000.\n",
            "Tue Nov  7 08:02:55 2023 Epoch 43\n"
          ]
        },
        {
          "output_type": "stream",
          "name": "stderr",
          "text": [
            "loss: 0.04224: 100%|██████████| 5/5 [00:00<00:00, 12.53it/s]\n",
            "100%|██████████| 2/2 [00:00<00:00, 21.65it/s]\n"
          ]
        },
        {
          "output_type": "stream",
          "name": "stdout",
          "text": [
            "Tue Nov  7 08:02:56 2023 Epoch 43, lr: 0.0000040, train loss: 0.12417, valid loss: 2.59791, Acc: 0.0000.\n",
            "Tue Nov  7 08:02:56 2023 Epoch 44\n"
          ]
        },
        {
          "output_type": "stream",
          "name": "stderr",
          "text": [
            "loss: 0.02335: 100%|██████████| 5/5 [00:00<00:00, 12.42it/s]\n",
            "100%|██████████| 2/2 [00:00<00:00, 21.97it/s]\n"
          ]
        },
        {
          "output_type": "stream",
          "name": "stdout",
          "text": [
            "Tue Nov  7 08:02:56 2023 Epoch 44, lr: 0.0000040, train loss: 0.15557, valid loss: 2.57898, Acc: 0.0000.\n",
            "Tue Nov  7 08:02:56 2023 Epoch 45\n"
          ]
        },
        {
          "output_type": "stream",
          "name": "stderr",
          "text": [
            "loss: 0.22225: 100%|██████████| 5/5 [00:00<00:00, 12.49it/s]\n",
            "100%|██████████| 2/2 [00:00<00:00, 23.68it/s]\n"
          ]
        },
        {
          "output_type": "stream",
          "name": "stdout",
          "text": [
            "Tue Nov  7 08:02:57 2023 Epoch 45, lr: 0.0000040, train loss: 0.29588, valid loss: 2.60217, Acc: 0.0000.\n",
            "Tue Nov  7 08:02:57 2023 Epoch 46\n"
          ]
        },
        {
          "output_type": "stream",
          "name": "stderr",
          "text": [
            "loss: 0.30251: 100%|██████████| 5/5 [00:00<00:00, 12.10it/s]\n",
            "100%|██████████| 2/2 [00:00<00:00, 16.37it/s]\n"
          ]
        },
        {
          "output_type": "stream",
          "name": "stdout",
          "text": [
            "Tue Nov  7 08:02:57 2023 Epoch 46, lr: 0.0000040, train loss: 0.10796, valid loss: 2.60914, Acc: 0.0000.\n",
            "Tue Nov  7 08:02:57 2023 Epoch 47\n"
          ]
        },
        {
          "output_type": "stream",
          "name": "stderr",
          "text": [
            "loss: 0.50414: 100%|██████████| 5/5 [00:00<00:00,  8.96it/s]\n",
            "100%|██████████| 2/2 [00:00<00:00, 18.53it/s]\n"
          ]
        },
        {
          "output_type": "stream",
          "name": "stdout",
          "text": [
            "Tue Nov  7 08:02:58 2023 Epoch 47, lr: 0.0000040, train loss: 0.19334, valid loss: 2.63736, Acc: 0.0000.\n",
            "Tue Nov  7 08:02:58 2023 Epoch 48\n"
          ]
        },
        {
          "output_type": "stream",
          "name": "stderr",
          "text": [
            "loss: 0.16162: 100%|██████████| 5/5 [00:00<00:00,  8.37it/s]\n",
            "100%|██████████| 2/2 [00:00<00:00, 10.82it/s]\n"
          ]
        },
        {
          "output_type": "stream",
          "name": "stdout",
          "text": [
            "Tue Nov  7 08:02:59 2023 Epoch 48, lr: 0.0000040, train loss: 0.12768, valid loss: 2.67920, Acc: 0.0000.\n",
            "Tue Nov  7 08:02:59 2023 Epoch 49\n"
          ]
        },
        {
          "output_type": "stream",
          "name": "stderr",
          "text": [
            "loss: 0.15096: 100%|██████████| 5/5 [00:01<00:00,  4.63it/s]\n",
            "100%|██████████| 2/2 [00:00<00:00,  7.93it/s]\n"
          ]
        },
        {
          "output_type": "stream",
          "name": "stdout",
          "text": [
            "Tue Nov  7 08:03:00 2023 Epoch 49, lr: 0.0000040, train loss: 0.12078, valid loss: 2.66391, Acc: 0.0000.\n",
            "Tue Nov  7 08:03:00 2023 Epoch 50\n"
          ]
        },
        {
          "output_type": "stream",
          "name": "stderr",
          "text": [
            "loss: 0.23518: 100%|██████████| 5/5 [00:01<00:00,  4.58it/s]\n",
            "100%|██████████| 2/2 [00:00<00:00,  5.90it/s]\n"
          ]
        },
        {
          "output_type": "stream",
          "name": "stdout",
          "text": [
            "Tue Nov  7 08:03:02 2023 Epoch 50, lr: 0.0000040, train loss: 0.21474, valid loss: 2.63980, Acc: 0.0000.\n",
            "Tue Nov  7 08:03:02 2023 Epoch 51\n"
          ]
        },
        {
          "output_type": "stream",
          "name": "stderr",
          "text": [
            "loss: 0.21928: 100%|██████████| 5/5 [00:01<00:00,  3.60it/s]\n",
            "100%|██████████| 2/2 [00:00<00:00, 13.88it/s]\n"
          ]
        },
        {
          "output_type": "stream",
          "name": "stdout",
          "text": [
            "Tue Nov  7 08:03:03 2023 Epoch 51, lr: 0.0000040, train loss: 0.28131, valid loss: 2.59308, Acc: 0.0000.\n",
            "Tue Nov  7 08:03:03 2023 Epoch 52\n"
          ]
        },
        {
          "output_type": "stream",
          "name": "stderr",
          "text": [
            "loss: 0.02993: 100%|██████████| 5/5 [00:00<00:00,  6.96it/s]\n",
            "100%|██████████| 2/2 [00:00<00:00, 16.64it/s]\n"
          ]
        },
        {
          "output_type": "stream",
          "name": "stdout",
          "text": [
            "Tue Nov  7 08:03:04 2023 Epoch 52, lr: 0.0000040, train loss: 0.25480, valid loss: 2.61323, Acc: 0.0000.\n",
            "Tue Nov  7 08:03:04 2023 Epoch 53\n"
          ]
        },
        {
          "output_type": "stream",
          "name": "stderr",
          "text": [
            "loss: 0.20530: 100%|██████████| 5/5 [00:00<00:00,  8.60it/s]\n",
            "100%|██████████| 2/2 [00:00<00:00, 11.16it/s]\n"
          ]
        },
        {
          "output_type": "stream",
          "name": "stdout",
          "text": [
            "Tue Nov  7 08:03:05 2023 Epoch 53, lr: 0.0000040, train loss: 0.26326, valid loss: 2.65514, Acc: 14.2857.\n",
            "Tue Nov  7 08:03:05 2023 Epoch 54\n"
          ]
        },
        {
          "output_type": "stream",
          "name": "stderr",
          "text": [
            "loss: 0.07534: 100%|██████████| 5/5 [00:00<00:00,  7.29it/s]\n",
            "100%|██████████| 2/2 [00:00<00:00,  9.26it/s]\n"
          ]
        },
        {
          "output_type": "stream",
          "name": "stdout",
          "text": [
            "Tue Nov  7 08:03:06 2023 Epoch 54, lr: 0.0000040, train loss: 0.20830, valid loss: 2.65693, Acc: 14.2857.\n",
            "Tue Nov  7 08:03:06 2023 Epoch 55\n"
          ]
        },
        {
          "output_type": "stream",
          "name": "stderr",
          "text": [
            "loss: 0.09504: 100%|██████████| 5/5 [00:00<00:00,  6.84it/s]\n",
            "100%|██████████| 2/2 [00:00<00:00, 10.61it/s]\n"
          ]
        },
        {
          "output_type": "stream",
          "name": "stdout",
          "text": [
            "Tue Nov  7 08:03:07 2023 Epoch 55, lr: 0.0000040, train loss: 0.11355, valid loss: 2.64896, Acc: 14.2857.\n",
            "Tue Nov  7 08:03:07 2023 Epoch 56\n"
          ]
        },
        {
          "output_type": "stream",
          "name": "stderr",
          "text": [
            "loss: 0.23070: 100%|██████████| 5/5 [00:00<00:00,  8.24it/s]\n",
            "100%|██████████| 2/2 [00:00<00:00, 14.47it/s]\n"
          ]
        },
        {
          "output_type": "stream",
          "name": "stdout",
          "text": [
            "Tue Nov  7 08:03:08 2023 Epoch 56, lr: 0.0000040, train loss: 0.18050, valid loss: 2.64700, Acc: 14.2857.\n",
            "Tue Nov  7 08:03:08 2023 Epoch 57\n"
          ]
        },
        {
          "output_type": "stream",
          "name": "stderr",
          "text": [
            "loss: 0.17403: 100%|██████████| 5/5 [00:00<00:00,  8.53it/s]\n",
            "100%|██████████| 2/2 [00:00<00:00, 15.28it/s]\n"
          ]
        },
        {
          "output_type": "stream",
          "name": "stdout",
          "text": [
            "Tue Nov  7 08:03:08 2023 Epoch 57, lr: 0.0000040, train loss: 0.19068, valid loss: 2.68441, Acc: 14.2857.\n",
            "Tue Nov  7 08:03:08 2023 Epoch 58\n"
          ]
        },
        {
          "output_type": "stream",
          "name": "stderr",
          "text": [
            "loss: 0.05231: 100%|██████████| 5/5 [00:00<00:00, 10.93it/s]\n",
            "100%|██████████| 2/2 [00:00<00:00, 21.42it/s]\n"
          ]
        },
        {
          "output_type": "stream",
          "name": "stdout",
          "text": [
            "Tue Nov  7 08:03:09 2023 Epoch 58, lr: 0.0000040, train loss: 0.13364, valid loss: 2.69815, Acc: 14.2857.\n",
            "Tue Nov  7 08:03:09 2023 Epoch 59\n"
          ]
        },
        {
          "output_type": "stream",
          "name": "stderr",
          "text": [
            "loss: 0.47416: 100%|██████████| 5/5 [00:00<00:00, 12.03it/s]\n",
            "100%|██████████| 2/2 [00:00<00:00, 22.30it/s]\n"
          ]
        },
        {
          "output_type": "stream",
          "name": "stdout",
          "text": [
            "Tue Nov  7 08:03:10 2023 Epoch 59, lr: 0.0000040, train loss: 0.34178, valid loss: 2.73049, Acc: 0.0000.\n",
            "Tue Nov  7 08:03:10 2023 Epoch 60\n"
          ]
        },
        {
          "output_type": "stream",
          "name": "stderr",
          "text": [
            "loss: 0.55815: 100%|██████████| 5/5 [00:00<00:00, 12.52it/s]\n",
            "100%|██████████| 2/2 [00:00<00:00, 22.14it/s]\n"
          ]
        },
        {
          "output_type": "stream",
          "name": "stdout",
          "text": [
            "Tue Nov  7 08:03:10 2023 Epoch 60, lr: 0.0000040, train loss: 0.24861, valid loss: 2.69412, Acc: 14.2857.\n",
            "Tue Nov  7 08:03:10 2023 Epoch 61\n"
          ]
        },
        {
          "output_type": "stream",
          "name": "stderr",
          "text": [
            "loss: 0.33659: 100%|██████████| 5/5 [00:00<00:00, 11.70it/s]\n",
            "100%|██████████| 2/2 [00:00<00:00, 22.45it/s]\n"
          ]
        },
        {
          "output_type": "stream",
          "name": "stdout",
          "text": [
            "Tue Nov  7 08:03:11 2023 Epoch 61, lr: 0.0000040, train loss: 0.12488, valid loss: 2.62676, Acc: 0.0000.\n",
            "Tue Nov  7 08:03:11 2023 Epoch 62\n"
          ]
        },
        {
          "output_type": "stream",
          "name": "stderr",
          "text": [
            "loss: 0.32425: 100%|██████████| 5/5 [00:00<00:00, 12.94it/s]\n",
            "100%|██████████| 2/2 [00:00<00:00, 23.12it/s]\n"
          ]
        },
        {
          "output_type": "stream",
          "name": "stdout",
          "text": [
            "Tue Nov  7 08:03:11 2023 Epoch 62, lr: 0.0000040, train loss: 0.16351, valid loss: 2.54759, Acc: 0.0000.\n",
            "Tue Nov  7 08:03:11 2023 Epoch 63\n"
          ]
        },
        {
          "output_type": "stream",
          "name": "stderr",
          "text": [
            "loss: 0.04596: 100%|██████████| 5/5 [00:00<00:00, 12.46it/s]\n",
            "100%|██████████| 2/2 [00:00<00:00, 22.02it/s]\n"
          ]
        },
        {
          "output_type": "stream",
          "name": "stdout",
          "text": [
            "Tue Nov  7 08:03:12 2023 Epoch 63, lr: 0.0000040, train loss: 0.13308, valid loss: 2.42433, Acc: 14.2857.\n",
            "Tue Nov  7 08:03:12 2023 Epoch 64\n"
          ]
        },
        {
          "output_type": "stream",
          "name": "stderr",
          "text": [
            "loss: 0.10818: 100%|██████████| 5/5 [00:00<00:00, 12.75it/s]\n",
            "100%|██████████| 2/2 [00:00<00:00, 22.29it/s]\n"
          ]
        },
        {
          "output_type": "stream",
          "name": "stdout",
          "text": [
            "Tue Nov  7 08:03:12 2023 Epoch 64, lr: 0.0000040, train loss: 0.17414, valid loss: 2.34077, Acc: 14.2857.\n",
            "Tue Nov  7 08:03:12 2023 Epoch 65\n"
          ]
        },
        {
          "output_type": "stream",
          "name": "stderr",
          "text": [
            "loss: 0.38637: 100%|██████████| 5/5 [00:00<00:00, 12.58it/s]\n",
            "100%|██████████| 2/2 [00:00<00:00, 21.21it/s]\n"
          ]
        },
        {
          "output_type": "stream",
          "name": "stdout",
          "text": [
            "Tue Nov  7 08:03:13 2023 Epoch 65, lr: 0.0000040, train loss: 0.21406, valid loss: 2.28671, Acc: 14.2857.\n",
            "Tue Nov  7 08:03:13 2023 Epoch 66\n"
          ]
        },
        {
          "output_type": "stream",
          "name": "stderr",
          "text": [
            "loss: 0.15630: 100%|██████████| 5/5 [00:00<00:00, 12.31it/s]\n",
            "100%|██████████| 2/2 [00:00<00:00, 21.90it/s]\n"
          ]
        },
        {
          "output_type": "stream",
          "name": "stdout",
          "text": [
            "Tue Nov  7 08:03:13 2023 Epoch 66, lr: 0.0000040, train loss: 0.24304, valid loss: 2.27067, Acc: 14.2857.\n",
            "Tue Nov  7 08:03:13 2023 Epoch 67\n"
          ]
        },
        {
          "output_type": "stream",
          "name": "stderr",
          "text": [
            "loss: 0.04726: 100%|██████████| 5/5 [00:00<00:00, 10.05it/s]\n",
            "100%|██████████| 2/2 [00:00<00:00, 17.63it/s]\n"
          ]
        },
        {
          "output_type": "stream",
          "name": "stdout",
          "text": [
            "Tue Nov  7 08:03:14 2023 Epoch 67, lr: 0.0000040, train loss: 0.13584, valid loss: 2.28235, Acc: 14.2857.\n",
            "Tue Nov  7 08:03:14 2023 Epoch 68\n"
          ]
        },
        {
          "output_type": "stream",
          "name": "stderr",
          "text": [
            "loss: 0.25408: 100%|██████████| 5/5 [00:00<00:00,  9.91it/s]\n",
            "100%|██████████| 2/2 [00:00<00:00, 18.32it/s]\n"
          ]
        },
        {
          "output_type": "stream",
          "name": "stdout",
          "text": [
            "Tue Nov  7 08:03:14 2023 Epoch 68, lr: 0.0000040, train loss: 0.22932, valid loss: 2.33193, Acc: 14.2857.\n",
            "Tue Nov  7 08:03:14 2023 Epoch 69\n"
          ]
        },
        {
          "output_type": "stream",
          "name": "stderr",
          "text": [
            "loss: 0.13795: 100%|██████████| 5/5 [00:00<00:00,  9.31it/s]\n",
            "100%|██████████| 2/2 [00:00<00:00, 17.43it/s]\n"
          ]
        },
        {
          "output_type": "stream",
          "name": "stdout",
          "text": [
            "Tue Nov  7 08:03:15 2023 Epoch 69, lr: 0.0000040, train loss: 0.15572, valid loss: 2.40566, Acc: 14.2857.\n",
            "Tue Nov  7 08:03:15 2023 Epoch 70\n"
          ]
        },
        {
          "output_type": "stream",
          "name": "stderr",
          "text": [
            "loss: 0.08989: 100%|██████████| 5/5 [00:00<00:00,  9.44it/s]\n",
            "100%|██████████| 2/2 [00:00<00:00, 16.76it/s]\n"
          ]
        },
        {
          "output_type": "stream",
          "name": "stdout",
          "text": [
            "Tue Nov  7 08:03:16 2023 Epoch 70, lr: 0.0000040, train loss: 0.17874, valid loss: 2.40771, Acc: 14.2857.\n",
            "Tue Nov  7 08:03:16 2023 Epoch 71\n"
          ]
        },
        {
          "output_type": "stream",
          "name": "stderr",
          "text": [
            "loss: 0.40859: 100%|██████████| 5/5 [00:00<00:00,  9.37it/s]\n",
            "100%|██████████| 2/2 [00:00<00:00, 16.63it/s]\n"
          ]
        },
        {
          "output_type": "stream",
          "name": "stdout",
          "text": [
            "Tue Nov  7 08:03:16 2023 Epoch 71, lr: 0.0000040, train loss: 0.27290, valid loss: 2.46132, Acc: 14.2857.\n",
            "Tue Nov  7 08:03:16 2023 Epoch 72\n"
          ]
        },
        {
          "output_type": "stream",
          "name": "stderr",
          "text": [
            "loss: 0.12931: 100%|██████████| 5/5 [00:00<00:00,  9.50it/s]\n",
            "100%|██████████| 2/2 [00:00<00:00, 15.56it/s]\n"
          ]
        },
        {
          "output_type": "stream",
          "name": "stdout",
          "text": [
            "Tue Nov  7 08:03:17 2023 Epoch 72, lr: 0.0000040, train loss: 0.16169, valid loss: 2.48876, Acc: 14.2857.\n",
            "Tue Nov  7 08:03:17 2023 Epoch 73\n"
          ]
        },
        {
          "output_type": "stream",
          "name": "stderr",
          "text": [
            "loss: 0.47257: 100%|██████████| 5/5 [00:00<00:00,  9.10it/s]\n",
            "100%|██████████| 2/2 [00:00<00:00, 15.73it/s]\n"
          ]
        },
        {
          "output_type": "stream",
          "name": "stdout",
          "text": [
            "Tue Nov  7 08:03:18 2023 Epoch 73, lr: 0.0000040, train loss: 0.22516, valid loss: 2.47094, Acc: 14.2857.\n",
            "Tue Nov  7 08:03:18 2023 Epoch 74\n"
          ]
        },
        {
          "output_type": "stream",
          "name": "stderr",
          "text": [
            "loss: 0.09653: 100%|██████████| 5/5 [00:00<00:00,  9.53it/s]\n",
            "100%|██████████| 2/2 [00:00<00:00, 20.75it/s]\n"
          ]
        },
        {
          "output_type": "stream",
          "name": "stdout",
          "text": [
            "Tue Nov  7 08:03:18 2023 Epoch 74, lr: 0.0000040, train loss: 0.10320, valid loss: 2.42891, Acc: 14.2857.\n",
            "Tue Nov  7 08:03:18 2023 Epoch 75\n"
          ]
        },
        {
          "output_type": "stream",
          "name": "stderr",
          "text": [
            "loss: 0.69454: 100%|██████████| 5/5 [00:00<00:00, 11.64it/s]\n",
            "100%|██████████| 2/2 [00:00<00:00, 17.59it/s]\n"
          ]
        },
        {
          "output_type": "stream",
          "name": "stdout",
          "text": [
            "Tue Nov  7 08:03:19 2023 Epoch 75, lr: 0.0000040, train loss: 0.34392, valid loss: 2.40907, Acc: 14.2857.\n",
            "Tue Nov  7 08:03:19 2023 Epoch 76\n"
          ]
        },
        {
          "output_type": "stream",
          "name": "stderr",
          "text": [
            "loss: 0.17986: 100%|██████████| 5/5 [00:00<00:00, 11.29it/s]\n",
            "100%|██████████| 2/2 [00:00<00:00, 21.99it/s]\n"
          ]
        },
        {
          "output_type": "stream",
          "name": "stdout",
          "text": [
            "Tue Nov  7 08:03:20 2023 Epoch 76, lr: 0.0000040, train loss: 0.13979, valid loss: 2.40857, Acc: 14.2857.\n",
            "Tue Nov  7 08:03:20 2023 Epoch 77\n"
          ]
        },
        {
          "output_type": "stream",
          "name": "stderr",
          "text": [
            "loss: 0.01793: 100%|██████████| 5/5 [00:00<00:00, 11.77it/s]\n",
            "100%|██████████| 2/2 [00:00<00:00, 22.04it/s]\n"
          ]
        },
        {
          "output_type": "stream",
          "name": "stdout",
          "text": [
            "Tue Nov  7 08:03:20 2023 Epoch 77, lr: 0.0000040, train loss: 0.12266, valid loss: 2.38527, Acc: 14.2857.\n",
            "Tue Nov  7 08:03:20 2023 Epoch 78\n"
          ]
        },
        {
          "output_type": "stream",
          "name": "stderr",
          "text": [
            "loss: 0.12975: 100%|██████████| 5/5 [00:00<00:00, 12.52it/s]\n",
            "100%|██████████| 2/2 [00:00<00:00, 22.29it/s]\n"
          ]
        },
        {
          "output_type": "stream",
          "name": "stdout",
          "text": [
            "Tue Nov  7 08:03:21 2023 Epoch 78, lr: 0.0000040, train loss: 0.09093, valid loss: 2.38005, Acc: 14.2857.\n",
            "Tue Nov  7 08:03:21 2023 Epoch 79\n"
          ]
        },
        {
          "output_type": "stream",
          "name": "stderr",
          "text": [
            "loss: 0.13491: 100%|██████████| 5/5 [00:00<00:00, 12.86it/s]\n",
            "100%|██████████| 2/2 [00:00<00:00, 21.20it/s]\n"
          ]
        },
        {
          "output_type": "stream",
          "name": "stdout",
          "text": [
            "Tue Nov  7 08:03:21 2023 Epoch 79, lr: 0.0000040, train loss: 0.09920, valid loss: 2.38100, Acc: 14.2857.\n",
            "Tue Nov  7 08:03:21 2023 Epoch 80\n"
          ]
        },
        {
          "output_type": "stream",
          "name": "stderr",
          "text": [
            "loss: 0.11595: 100%|██████████| 5/5 [00:00<00:00, 12.50it/s]\n",
            "100%|██████████| 2/2 [00:00<00:00, 21.35it/s]\n"
          ]
        },
        {
          "output_type": "stream",
          "name": "stdout",
          "text": [
            "Tue Nov  7 08:03:22 2023 Epoch 80, lr: 0.0000040, train loss: 0.14853, valid loss: 2.35779, Acc: 14.2857.\n",
            "Tue Nov  7 08:03:22 2023 Epoch 81\n"
          ]
        },
        {
          "output_type": "stream",
          "name": "stderr",
          "text": [
            "loss: 0.01686: 100%|██████████| 5/5 [00:00<00:00, 12.60it/s]\n",
            "100%|██████████| 2/2 [00:00<00:00, 21.83it/s]\n"
          ]
        },
        {
          "output_type": "stream",
          "name": "stdout",
          "text": [
            "Tue Nov  7 08:03:22 2023 Epoch 81, lr: 0.0000040, train loss: 0.09488, valid loss: 2.32772, Acc: 14.2857.\n",
            "Tue Nov  7 08:03:22 2023 Epoch 82\n"
          ]
        },
        {
          "output_type": "stream",
          "name": "stderr",
          "text": [
            "loss: 0.02933: 100%|██████████| 5/5 [00:00<00:00, 12.07it/s]\n",
            "100%|██████████| 2/2 [00:00<00:00, 22.51it/s]\n"
          ]
        },
        {
          "output_type": "stream",
          "name": "stdout",
          "text": [
            "Tue Nov  7 08:03:23 2023 Epoch 82, lr: 0.0000040, train loss: 0.11848, valid loss: 2.28062, Acc: 14.2857.\n",
            "Tue Nov  7 08:03:23 2023 Epoch 83\n"
          ]
        },
        {
          "output_type": "stream",
          "name": "stderr",
          "text": [
            "loss: 0.22914: 100%|██████████| 5/5 [00:00<00:00, 12.36it/s]\n",
            "100%|██████████| 2/2 [00:00<00:00, 21.62it/s]\n"
          ]
        },
        {
          "output_type": "stream",
          "name": "stdout",
          "text": [
            "Tue Nov  7 08:03:23 2023 Epoch 83, lr: 0.0000040, train loss: 0.20896, valid loss: 2.22603, Acc: 14.2857.\n",
            "Tue Nov  7 08:03:23 2023 Epoch 84\n"
          ]
        },
        {
          "output_type": "stream",
          "name": "stderr",
          "text": [
            "loss: 0.12480: 100%|██████████| 5/5 [00:00<00:00, 12.70it/s]\n",
            "100%|██████████| 2/2 [00:00<00:00, 21.37it/s]\n"
          ]
        },
        {
          "output_type": "stream",
          "name": "stdout",
          "text": [
            "Tue Nov  7 08:03:24 2023 Epoch 84, lr: 0.0000040, train loss: 0.33497, valid loss: 2.19386, Acc: 14.2857.\n",
            "Tue Nov  7 08:03:24 2023 Epoch 85\n"
          ]
        },
        {
          "output_type": "stream",
          "name": "stderr",
          "text": [
            "loss: 0.08241: 100%|██████████| 5/5 [00:00<00:00, 12.46it/s]\n",
            "100%|██████████| 2/2 [00:00<00:00, 21.35it/s]\n"
          ]
        },
        {
          "output_type": "stream",
          "name": "stdout",
          "text": [
            "Tue Nov  7 08:03:24 2023 Epoch 85, lr: 0.0000040, train loss: 0.17226, valid loss: 2.17854, Acc: 14.2857.\n",
            "Tue Nov  7 08:03:24 2023 Epoch 86\n"
          ]
        },
        {
          "output_type": "stream",
          "name": "stderr",
          "text": [
            "loss: 0.08365: 100%|██████████| 5/5 [00:00<00:00, 12.74it/s]\n",
            "100%|██████████| 2/2 [00:00<00:00, 20.46it/s]\n"
          ]
        },
        {
          "output_type": "stream",
          "name": "stdout",
          "text": [
            "Tue Nov  7 08:03:25 2023 Epoch 86, lr: 0.0000040, train loss: 0.20015, valid loss: 2.19264, Acc: 14.2857.\n",
            "Tue Nov  7 08:03:25 2023 Epoch 87\n"
          ]
        },
        {
          "output_type": "stream",
          "name": "stderr",
          "text": [
            "loss: 0.05487: 100%|██████████| 5/5 [00:00<00:00, 12.46it/s]\n",
            "100%|██████████| 2/2 [00:00<00:00, 20.80it/s]\n"
          ]
        },
        {
          "output_type": "stream",
          "name": "stdout",
          "text": [
            "Tue Nov  7 08:03:25 2023 Epoch 87, lr: 0.0000040, train loss: 0.05031, valid loss: 2.22103, Acc: 14.2857.\n",
            "Tue Nov  7 08:03:25 2023 Epoch 88\n"
          ]
        },
        {
          "output_type": "stream",
          "name": "stderr",
          "text": [
            "loss: 0.44885: 100%|██████████| 5/5 [00:00<00:00, 12.44it/s]\n",
            "100%|██████████| 2/2 [00:00<00:00, 23.48it/s]\n"
          ]
        },
        {
          "output_type": "stream",
          "name": "stdout",
          "text": [
            "Tue Nov  7 08:03:26 2023 Epoch 88, lr: 0.0000040, train loss: 0.25410, valid loss: 2.25719, Acc: 14.2857.\n",
            "Tue Nov  7 08:03:26 2023 Epoch 89\n"
          ]
        },
        {
          "output_type": "stream",
          "name": "stderr",
          "text": [
            "loss: 0.40093: 100%|██████████| 5/5 [00:00<00:00, 12.65it/s]\n",
            "100%|██████████| 2/2 [00:00<00:00, 21.29it/s]\n"
          ]
        },
        {
          "output_type": "stream",
          "name": "stdout",
          "text": [
            "Tue Nov  7 08:03:26 2023 Epoch 89, lr: 0.0000040, train loss: 0.19982, valid loss: 2.28433, Acc: 14.2857.\n",
            "Tue Nov  7 08:03:26 2023 Epoch 90\n"
          ]
        },
        {
          "output_type": "stream",
          "name": "stderr",
          "text": [
            "loss: 0.27801: 100%|██████████| 5/5 [00:00<00:00, 12.55it/s]\n",
            "100%|██████████| 2/2 [00:00<00:00, 22.08it/s]\n"
          ]
        },
        {
          "output_type": "stream",
          "name": "stdout",
          "text": [
            "Tue Nov  7 08:03:27 2023 Epoch 90, lr: 0.0000040, train loss: 0.26621, valid loss: 2.23348, Acc: 14.2857.\n",
            "Tue Nov  7 08:03:27 2023 Epoch 91\n"
          ]
        },
        {
          "output_type": "stream",
          "name": "stderr",
          "text": [
            "loss: 0.20724: 100%|██████████| 5/5 [00:00<00:00, 12.71it/s]\n",
            "100%|██████████| 2/2 [00:00<00:00, 20.39it/s]\n"
          ]
        },
        {
          "output_type": "stream",
          "name": "stdout",
          "text": [
            "Tue Nov  7 08:03:27 2023 Epoch 91, lr: 0.0000040, train loss: 0.37302, valid loss: 2.24397, Acc: 14.2857.\n",
            "Tue Nov  7 08:03:27 2023 Epoch 92\n"
          ]
        },
        {
          "output_type": "stream",
          "name": "stderr",
          "text": [
            "loss: 0.03354: 100%|██████████| 5/5 [00:00<00:00, 12.30it/s]\n",
            "100%|██████████| 2/2 [00:00<00:00, 20.73it/s]\n"
          ]
        },
        {
          "output_type": "stream",
          "name": "stdout",
          "text": [
            "Tue Nov  7 08:03:28 2023 Epoch 92, lr: 0.0000040, train loss: 0.25242, valid loss: 2.28709, Acc: 14.2857.\n",
            "Tue Nov  7 08:03:28 2023 Epoch 93\n"
          ]
        },
        {
          "output_type": "stream",
          "name": "stderr",
          "text": [
            "loss: 0.01796: 100%|██████████| 5/5 [00:00<00:00, 12.33it/s]\n",
            "100%|██████████| 2/2 [00:00<00:00, 20.16it/s]\n"
          ]
        },
        {
          "output_type": "stream",
          "name": "stdout",
          "text": [
            "Tue Nov  7 08:03:28 2023 Epoch 93, lr: 0.0000040, train loss: 0.26029, valid loss: 2.33606, Acc: 14.2857.\n",
            "Tue Nov  7 08:03:28 2023 Epoch 94\n"
          ]
        },
        {
          "output_type": "stream",
          "name": "stderr",
          "text": [
            "loss: 0.28655: 100%|██████████| 5/5 [00:00<00:00,  9.72it/s]\n",
            "100%|██████████| 2/2 [00:00<00:00, 17.32it/s]\n"
          ]
        },
        {
          "output_type": "stream",
          "name": "stdout",
          "text": [
            "Tue Nov  7 08:03:29 2023 Epoch 94, lr: 0.0000040, train loss: 0.22806, valid loss: 2.36257, Acc: 14.2857.\n",
            "Tue Nov  7 08:03:29 2023 Epoch 95\n"
          ]
        },
        {
          "output_type": "stream",
          "name": "stderr",
          "text": [
            "loss: 0.07139: 100%|██████████| 5/5 [00:00<00:00, 10.40it/s]\n",
            "100%|██████████| 2/2 [00:00<00:00, 18.98it/s]\n"
          ]
        },
        {
          "output_type": "stream",
          "name": "stdout",
          "text": [
            "Tue Nov  7 08:03:30 2023 Epoch 95, lr: 0.0000040, train loss: 0.13985, valid loss: 2.38430, Acc: 14.2857.\n",
            "Tue Nov  7 08:03:30 2023 Epoch 96\n"
          ]
        },
        {
          "output_type": "stream",
          "name": "stderr",
          "text": [
            "loss: 0.09866: 100%|██████████| 5/5 [00:00<00:00, 10.28it/s]\n",
            "100%|██████████| 2/2 [00:00<00:00, 18.56it/s]\n"
          ]
        },
        {
          "output_type": "stream",
          "name": "stdout",
          "text": [
            "Tue Nov  7 08:03:30 2023 Epoch 96, lr: 0.0000040, train loss: 0.15318, valid loss: 2.38562, Acc: 14.2857.\n",
            "Tue Nov  7 08:03:30 2023 Epoch 97\n"
          ]
        },
        {
          "output_type": "stream",
          "name": "stderr",
          "text": [
            "loss: 0.08474: 100%|██████████| 5/5 [00:00<00:00,  9.68it/s]\n",
            "100%|██████████| 2/2 [00:00<00:00, 17.11it/s]\n"
          ]
        },
        {
          "output_type": "stream",
          "name": "stdout",
          "text": [
            "Tue Nov  7 08:03:31 2023 Epoch 97, lr: 0.0000040, train loss: 0.23973, valid loss: 2.35065, Acc: 14.2857.\n",
            "Tue Nov  7 08:03:31 2023 Epoch 98\n"
          ]
        },
        {
          "output_type": "stream",
          "name": "stderr",
          "text": [
            "loss: 0.04521: 100%|██████████| 5/5 [00:00<00:00,  7.13it/s]\n",
            "100%|██████████| 2/2 [00:00<00:00, 17.09it/s]\n"
          ]
        },
        {
          "output_type": "stream",
          "name": "stdout",
          "text": [
            "Tue Nov  7 08:03:32 2023 Epoch 98, lr: 0.0000040, train loss: 0.23631, valid loss: 2.33077, Acc: 14.2857.\n",
            "Tue Nov  7 08:03:32 2023 Epoch 99\n"
          ]
        },
        {
          "output_type": "stream",
          "name": "stderr",
          "text": [
            "loss: 0.06259: 100%|██████████| 5/5 [00:00<00:00,  7.79it/s]\n",
            "100%|██████████| 2/2 [00:00<00:00,  7.98it/s]\n"
          ]
        },
        {
          "output_type": "stream",
          "name": "stdout",
          "text": [
            "Tue Nov  7 08:03:33 2023 Epoch 99, lr: 0.0000040, train loss: 0.19793, valid loss: 2.35473, Acc: 14.2857.\n",
            "Tue Nov  7 08:03:33 2023 Epoch 100\n"
          ]
        },
        {
          "output_type": "stream",
          "name": "stderr",
          "text": [
            "loss: 0.20247: 100%|██████████| 5/5 [00:01<00:00,  4.77it/s]\n",
            "100%|██████████| 2/2 [00:00<00:00, 11.65it/s]\n"
          ]
        },
        {
          "output_type": "stream",
          "name": "stdout",
          "text": [
            "Tue Nov  7 08:03:34 2023 Epoch 100, lr: 0.0000040, train loss: 0.25158, valid loss: 2.38000, Acc: 14.2857.\n"
          ]
        }
      ]
    },
    {
      "cell_type": "code",
      "source": [
        "plt.figure(figsize=(7, 5))\n",
        "plt.plot(range(len(train_loss_list)), train_loss_list, label='Train Loss')\n",
        "plt.plot(range(len(val_loss_list)), val_loss_list, label='Validation Loss')\n",
        "plt.xlabel('Epochs')\n",
        "plt.ylabel('Loss')\n",
        "plt.legend()\n",
        "plt.title('Train and Validation Loss')\n",
        "plt.show()"
      ],
      "metadata": {
        "colab": {
          "base_uri": "https://localhost:8080/"
        },
        "id": "NTGGhi2ithVY",
        "outputId": "19e5427c-b735-433e-cf98-6c86d04e046a"
      },
      "id": "NTGGhi2ithVY",
      "execution_count": null,
      "outputs": [
        {
          "output_type": "display_data",
          "data": {
            "text/plain": [
              "<Figure size 700x500 with 1 Axes>"
            ],
            "image/png": "[encoded data removed]"
          },
          "metadata": {}
        }
      ]
    },
    {
      "cell_type": "markdown",
      "metadata": {
        "id": "CQT_4IlN7uMS"
      },
      "source": [
        "# 실습 과제\n",
        "\n",
        "위 실습을 응용하여 **본인만의 데이터셋**을 구성하고 학습이 진행됨을 보이시오.\n",
        "\n",
        "과제에 포함할 내용:\n",
        "\n",
        " - 총 4개 이상의 클래스를 분류하는 문제(classification)를 해결\n",
        " - 데이터셋에 맞추어 생성한 csv 파일을 다운받아 직접 내용을 검토\n",
        " - 학습이 잘되는지 확인\n"
      ],
      "id": "CQT_4IlN7uMS"
    },
    {
      "cell_type": "code",
      "metadata": {
        "colab": {
          "base_uri": "https://localhost:8080/"
        },
        "outputId": "70ad8846-40d7-4738-b3da-4ed552561230",
        "id": "WH99bxjqLIKc"
      },
      "source": [
        "file_path = '/content/drive/MyDrive/Colab Notebooks/영상처리와딥러닝/data_mj/*/*.jpeg'\n",
        "\n",
        "file_list = glob(file_path)\n",
        "file_list"
      ],
      "execution_count": null,
      "outputs": [
        {
          "output_type": "execute_result",
          "data": {
            "text/plain": [
              "['/content/drive/MyDrive/Colab Notebooks/영상처리와딥러닝/data_mj/ningning/3_01.jpeg',\n",
              " '/content/drive/MyDrive/Colab Notebooks/영상처리와딥러닝/data_mj/ningning/3_07.jpeg',\n",
              " '/content/drive/MyDrive/Colab Notebooks/영상처리와딥러닝/data_mj/ningning/3_02.jpeg',\n",
              " '/content/drive/MyDrive/Colab Notebooks/영상처리와딥러닝/data_mj/ningning/3_04.jpeg',\n",
              " '/content/drive/MyDrive/Colab Notebooks/영상처리와딥러닝/data_mj/ningning/3_05.jpeg',\n",
              " '/content/drive/MyDrive/Colab Notebooks/영상처리와딥러닝/data_mj/ningning/3_06.jpeg',\n",
              " '/content/drive/MyDrive/Colab Notebooks/영상처리와딥러닝/data_mj/ningning/3_03.jpeg',\n",
              " '/content/drive/MyDrive/Colab Notebooks/영상처리와딥러닝/data_mj/ningning/3_08.jpeg',\n",
              " '/content/drive/MyDrive/Colab Notebooks/영상처리와딥러닝/data_mj/ningning/3_10.jpeg',\n",
              " '/content/drive/MyDrive/Colab Notebooks/영상처리와딥러닝/data_mj/ningning/3_09.jpeg',\n",
              " '/content/drive/MyDrive/Colab Notebooks/영상처리와딥러닝/data_mj/karina/1_09.jpeg',\n",
              " '/content/drive/MyDrive/Colab Notebooks/영상처리와딥러닝/data_mj/karina/1_01.jpeg',\n",
              " '/content/drive/MyDrive/Colab Notebooks/영상처리와딥러닝/data_mj/karina/1_10.jpeg',\n",
              " '/content/drive/MyDrive/Colab Notebooks/영상처리와딥러닝/data_mj/karina/1_04.jpeg',\n",
              " '/content/drive/MyDrive/Colab Notebooks/영상처리와딥러닝/data_mj/karina/1_07.jpeg',\n",
              " '/content/drive/MyDrive/Colab Notebooks/영상처리와딥러닝/data_mj/karina/1_02.jpeg',\n",
              " '/content/drive/MyDrive/Colab Notebooks/영상처리와딥러닝/data_mj/karina/1_08.jpeg',\n",
              " '/content/drive/MyDrive/Colab Notebooks/영상처리와딥러닝/data_mj/karina/1_06.jpeg',\n",
              " '/content/drive/MyDrive/Colab Notebooks/영상처리와딥러닝/data_mj/karina/1_03.jpeg',\n",
              " '/content/drive/MyDrive/Colab Notebooks/영상처리와딥러닝/data_mj/karina/1_05.jpeg',\n",
              " '/content/drive/MyDrive/Colab Notebooks/영상처리와딥러닝/data_mj/winter/2_02.jpeg',\n",
              " '/content/drive/MyDrive/Colab Notebooks/영상처리와딥러닝/data_mj/winter/2_01.jpeg',\n",
              " '/content/drive/MyDrive/Colab Notebooks/영상처리와딥러닝/data_mj/winter/2_06.jpeg',\n",
              " '/content/drive/MyDrive/Colab Notebooks/영상처리와딥러닝/data_mj/winter/2_04.jpeg',\n",
              " '/content/drive/MyDrive/Colab Notebooks/영상처리와딥러닝/data_mj/winter/2_10.jpeg',\n",
              " '/content/drive/MyDrive/Colab Notebooks/영상처리와딥러닝/data_mj/winter/2_03.jpeg',\n",
              " '/content/drive/MyDrive/Colab Notebooks/영상처리와딥러닝/data_mj/winter/2_07.jpeg',\n",
              " '/content/drive/MyDrive/Colab Notebooks/영상처리와딥러닝/data_mj/winter/2_09.jpeg',\n",
              " '/content/drive/MyDrive/Colab Notebooks/영상처리와딥러닝/data_mj/winter/2_08.jpeg',\n",
              " '/content/drive/MyDrive/Colab Notebooks/영상처리와딥러닝/data_mj/winter/2_05.jpeg',\n",
              " '/content/drive/MyDrive/Colab Notebooks/영상처리와딥러닝/data_mj/giselle/4_01.jpeg',\n",
              " '/content/drive/MyDrive/Colab Notebooks/영상처리와딥러닝/data_mj/giselle/4_04.jpeg',\n",
              " '/content/drive/MyDrive/Colab Notebooks/영상처리와딥러닝/data_mj/giselle/4_02.jpeg',\n",
              " '/content/drive/MyDrive/Colab Notebooks/영상처리와딥러닝/data_mj/giselle/4_07.jpeg',\n",
              " '/content/drive/MyDrive/Colab Notebooks/영상처리와딥러닝/data_mj/giselle/4_05.jpeg',\n",
              " '/content/drive/MyDrive/Colab Notebooks/영상처리와딥러닝/data_mj/giselle/4_08.jpeg',\n",
              " '/content/drive/MyDrive/Colab Notebooks/영상처리와딥러닝/data_mj/giselle/4_06.jpeg',\n",
              " '/content/drive/MyDrive/Colab Notebooks/영상처리와딥러닝/data_mj/giselle/4_09.jpeg',\n",
              " '/content/drive/MyDrive/Colab Notebooks/영상처리와딥러닝/data_mj/giselle/4_10.jpeg',\n",
              " '/content/drive/MyDrive/Colab Notebooks/영상처리와딥러닝/data_mj/giselle/4_03.jpeg']"
            ]
          },
          "metadata": {},
          "execution_count": 28
        }
      ],
      "id": "WH99bxjqLIKc"
    },
    {
      "cell_type": "markdown",
      "metadata": {
        "id": "CT09leiZLIKd"
      },
      "source": [
        "- 해당 클래스를 학습에서 사용하기 위해 karina는 0으로, winter는 1로, ningning은 2으로, giselle은 3로 설정하여 `target`이라는 항목에 저장합니다.\n"
      ],
      "id": "CT09leiZLIKd"
    },
    {
      "cell_type": "code",
      "metadata": {
        "colab": {
          "base_uri": "https://localhost:8080/"
        },
        "outputId": "a09e237b-c8e6-4f8a-9f8d-433751bb5b66",
        "id": "JuBx6JczLIKe"
      },
      "source": [
        "data_dict = {'image_name':[], 'class':[], 'target':[], 'file_path':[]}\n",
        "target_dict = {'karina':0, 'winter':1, 'ningning':2, 'giselle':3}\n",
        "\n",
        "for path in file_list:\n",
        "\n",
        "    data_dict['file_path'].append(path) # file_path 항목에 파일 경로 저장\n",
        "\n",
        "    path_list = path.split(os.path.sep) # os별 파일 경로 구분 문자로 split\n",
        "    print(path_list)\n",
        "\n",
        "    data_dict['image_name'].append(path_list[-1])\n",
        "    data_dict['class'].append(path_list[-2])\n",
        "    data_dict['target'].append(target_dict[path_list[-2]])\n",
        "\n",
        "train_df = pd.DataFrame(data_dict)\n",
        "print('\\n<data frame>\\n', train_df)\n",
        "\n",
        "train_df.to_csv(\"/content/drive/MyDrive/Colab Notebooks/영상처리와딥러닝/data_mj/train.csv\", mode='w')"
      ],
      "execution_count": null,
      "outputs": [
        {
          "output_type": "stream",
          "name": "stdout",
          "text": [
            "['', 'content', 'drive', 'MyDrive', 'Colab Notebooks', '영상처리와딥러닝', 'data_mj', 'ningning', '3_01.jpeg']\n",
            "['', 'content', 'drive', 'MyDrive', 'Colab Notebooks', '영상처리와딥러닝', 'data_mj', 'ningning', '3_07.jpeg']\n",
            "['', 'content', 'drive', 'MyDrive', 'Colab Notebooks', '영상처리와딥러닝', 'data_mj', 'ningning', '3_02.jpeg']\n",
            "['', 'content', 'drive', 'MyDrive', 'Colab Notebooks', '영상처리와딥러닝', 'data_mj', 'ningning', '3_04.jpeg']\n",
            "['', 'content', 'drive', 'MyDrive', 'Colab Notebooks', '영상처리와딥러닝', 'data_mj', 'ningning', '3_05.jpeg']\n",
            "['', 'content', 'drive', 'MyDrive', 'Colab Notebooks', '영상처리와딥러닝', 'data_mj', 'ningning', '3_06.jpeg']\n",
            "['', 'content', 'drive', 'MyDrive', 'Colab Notebooks', '영상처리와딥러닝', 'data_mj', 'ningning', '3_03.jpeg']\n",
            "['', 'content', 'drive', 'MyDrive', 'Colab Notebooks', '영상처리와딥러닝', 'data_mj', 'ningning', '3_08.jpeg']\n",
            "['', 'content', 'drive', 'MyDrive', 'Colab Notebooks', '영상처리와딥러닝', 'data_mj', 'ningning', '3_10.jpeg']\n",
            "['', 'content', 'drive', 'MyDrive', 'Colab Notebooks', '영상처리와딥러닝', 'data_mj', 'ningning', '3_09.jpeg']\n",
            "['', 'content', 'drive', 'MyDrive', 'Colab Notebooks', '영상처리와딥러닝', 'data_mj', 'karina', '1_09.jpeg']\n",
            "['', 'content', 'drive', 'MyDrive', 'Colab Notebooks', '영상처리와딥러닝', 'data_mj', 'karina', '1_01.jpeg']\n",
            "['', 'content', 'drive', 'MyDrive', 'Colab Notebooks', '영상처리와딥러닝', 'data_mj', 'karina', '1_10.jpeg']\n",
            "['', 'content', 'drive', 'MyDrive', 'Colab Notebooks', '영상처리와딥러닝', 'data_mj', 'karina', '1_04.jpeg']\n",
            "['', 'content', 'drive', 'MyDrive', 'Colab Notebooks', '영상처리와딥러닝', 'data_mj', 'karina', '1_07.jpeg']\n",
            "['', 'content', 'drive', 'MyDrive', 'Colab Notebooks', '영상처리와딥러닝', 'data_mj', 'karina', '1_02.jpeg']\n",
            "['', 'content', 'drive', 'MyDrive', 'Colab Notebooks', '영상처리와딥러닝', 'data_mj', 'karina', '1_08.jpeg']\n",
            "['', 'content', 'drive', 'MyDrive', 'Colab Notebooks', '영상처리와딥러닝', 'data_mj', 'karina', '1_06.jpeg']\n",
            "['', 'content', 'drive', 'MyDrive', 'Colab Notebooks', '영상처리와딥러닝', 'data_mj', 'karina', '1_03.jpeg']\n",
            "['', 'content', 'drive', 'MyDrive', 'Colab Notebooks', '영상처리와딥러닝', 'data_mj', 'karina', '1_05.jpeg']\n",
            "['', 'content', 'drive', 'MyDrive', 'Colab Notebooks', '영상처리와딥러닝', 'data_mj', 'winter', '2_02.jpeg']\n",
            "['', 'content', 'drive', 'MyDrive', 'Colab Notebooks', '영상처리와딥러닝', 'data_mj', 'winter', '2_01.jpeg']\n",
            "['', 'content', 'drive', 'MyDrive', 'Colab Notebooks', '영상처리와딥러닝', 'data_mj', 'winter', '2_06.jpeg']\n",
            "['', 'content', 'drive', 'MyDrive', 'Colab Notebooks', '영상처리와딥러닝', 'data_mj', 'winter', '2_04.jpeg']\n",
            "['', 'content', 'drive', 'MyDrive', 'Colab Notebooks', '영상처리와딥러닝', 'data_mj', 'winter', '2_10.jpeg']\n",
            "['', 'content', 'drive', 'MyDrive', 'Colab Notebooks', '영상처리와딥러닝', 'data_mj', 'winter', '2_03.jpeg']\n",
            "['', 'content', 'drive', 'MyDrive', 'Colab Notebooks', '영상처리와딥러닝', 'data_mj', 'winter', '2_07.jpeg']\n",
            "['', 'content', 'drive', 'MyDrive', 'Colab Notebooks', '영상처리와딥러닝', 'data_mj', 'winter', '2_09.jpeg']\n",
            "['', 'content', 'drive', 'MyDrive', 'Colab Notebooks', '영상처리와딥러닝', 'data_mj', 'winter', '2_08.jpeg']\n",
            "['', 'content', 'drive', 'MyDrive', 'Colab Notebooks', '영상처리와딥러닝', 'data_mj', 'winter', '2_05.jpeg']\n",
            "['', 'content', 'drive', 'MyDrive', 'Colab Notebooks', '영상처리와딥러닝', 'data_mj', 'giselle', '4_01.jpeg']\n",
            "['', 'content', 'drive', 'MyDrive', 'Colab Notebooks', '영상처리와딥러닝', 'data_mj', 'giselle', '4_04.jpeg']\n",
            "['', 'content', 'drive', 'MyDrive', 'Colab Notebooks', '영상처리와딥러닝', 'data_mj', 'giselle', '4_02.jpeg']\n",
            "['', 'content', 'drive', 'MyDrive', 'Colab Notebooks', '영상처리와딥러닝', 'data_mj', 'giselle', '4_07.jpeg']\n",
            "['', 'content', 'drive', 'MyDrive', 'Colab Notebooks', '영상처리와딥러닝', 'data_mj', 'giselle', '4_05.jpeg']\n",
            "['', 'content', 'drive', 'MyDrive', 'Colab Notebooks', '영상처리와딥러닝', 'data_mj', 'giselle', '4_08.jpeg']\n",
            "['', 'content', 'drive', 'MyDrive', 'Colab Notebooks', '영상처리와딥러닝', 'data_mj', 'giselle', '4_06.jpeg']\n",
            "['', 'content', 'drive', 'MyDrive', 'Colab Notebooks', '영상처리와딥러닝', 'data_mj', 'giselle', '4_09.jpeg']\n",
            "['', 'content', 'drive', 'MyDrive', 'Colab Notebooks', '영상처리와딥러닝', 'data_mj', 'giselle', '4_10.jpeg']\n",
            "['', 'content', 'drive', 'MyDrive', 'Colab Notebooks', '영상처리와딥러닝', 'data_mj', 'giselle', '4_03.jpeg']\n",
            "\n",
            "<data frame>\n",
            "    image_name     class  target  \\\n",
            "0   3_01.jpeg  ningning       2   \n",
            "1   3_07.jpeg  ningning       2   \n",
            "2   3_02.jpeg  ningning       2   \n",
            "3   3_04.jpeg  ningning       2   \n",
            "4   3_05.jpeg  ningning       2   \n",
            "5   3_06.jpeg  ningning       2   \n",
            "6   3_03.jpeg  ningning       2   \n",
            "7   3_08.jpeg  ningning       2   \n",
            "8   3_10.jpeg  ningning       2   \n",
            "9   3_09.jpeg  ningning       2   \n",
            "10  1_09.jpeg    karina       0   \n",
            "11  1_01.jpeg    karina       0   \n",
            "12  1_10.jpeg    karina       0   \n",
            "13  1_04.jpeg    karina       0   \n",
            "14  1_07.jpeg    karina       0   \n",
            "15  1_02.jpeg    karina       0   \n",
            "16  1_08.jpeg    karina       0   \n",
            "17  1_06.jpeg    karina       0   \n",
            "18  1_03.jpeg    karina       0   \n",
            "19  1_05.jpeg    karina       0   \n",
            "20  2_02.jpeg    winter       1   \n",
            "21  2_01.jpeg    winter       1   \n",
            "22  2_06.jpeg    winter       1   \n",
            "23  2_04.jpeg    winter       1   \n",
            "24  2_10.jpeg    winter       1   \n",
            "25  2_03.jpeg    winter       1   \n",
            "26  2_07.jpeg    winter       1   \n",
            "27  2_09.jpeg    winter       1   \n",
            "28  2_08.jpeg    winter       1   \n",
            "29  2_05.jpeg    winter       1   \n",
            "30  4_01.jpeg   giselle       3   \n",
            "31  4_04.jpeg   giselle       3   \n",
            "32  4_02.jpeg   giselle       3   \n",
            "33  4_07.jpeg   giselle       3   \n",
            "34  4_05.jpeg   giselle       3   \n",
            "35  4_08.jpeg   giselle       3   \n",
            "36  4_06.jpeg   giselle       3   \n",
            "37  4_09.jpeg   giselle       3   \n",
            "38  4_10.jpeg   giselle       3   \n",
            "39  4_03.jpeg   giselle       3   \n",
            "\n",
            "                                            file_path  \n",
            "0   /content/drive/MyDrive/Colab Notebooks/영상ᄎ...  \n",
            "1   /content/drive/MyDrive/Colab Notebooks/영상ᄎ...  \n",
            "2   /content/drive/MyDrive/Colab Notebooks/영상ᄎ...  \n",
            "3   /content/drive/MyDrive/Colab Notebooks/영상ᄎ...  \n",
            "4   /content/drive/MyDrive/Colab Notebooks/영상ᄎ...  \n",
            "5   /content/drive/MyDrive/Colab Notebooks/영상ᄎ...  \n",
            "6   /content/drive/MyDrive/Colab Notebooks/영상ᄎ...  \n",
            "7   /content/drive/MyDrive/Colab Notebooks/영상ᄎ...  \n",
            "8   /content/drive/MyDrive/Colab Notebooks/영상ᄎ...  \n",
            "9   /content/drive/MyDrive/Colab Notebooks/영상ᄎ...  \n",
            "10  /content/drive/MyDrive/Colab Notebooks/영상ᄎ...  \n",
            "11  /content/drive/MyDrive/Colab Notebooks/영상ᄎ...  \n",
            "12  /content/drive/MyDrive/Colab Notebooks/영상ᄎ...  \n",
            "13  /content/drive/MyDrive/Colab Notebooks/영상ᄎ...  \n",
            "14  /content/drive/MyDrive/Colab Notebooks/영상ᄎ...  \n",
            "15  /content/drive/MyDrive/Colab Notebooks/영상ᄎ...  \n",
            "16  /content/drive/MyDrive/Colab Notebooks/영상ᄎ...  \n",
            "17  /content/drive/MyDrive/Colab Notebooks/영상ᄎ...  \n",
            "18  /content/drive/MyDrive/Colab Notebooks/영상ᄎ...  \n",
            "19  /content/drive/MyDrive/Colab Notebooks/영상ᄎ...  \n",
            "20  /content/drive/MyDrive/Colab Notebooks/영상ᄎ...  \n",
            "21  /content/drive/MyDrive/Colab Notebooks/영상ᄎ...  \n",
            "22  /content/drive/MyDrive/Colab Notebooks/영상ᄎ...  \n",
            "23  /content/drive/MyDrive/Colab Notebooks/영상ᄎ...  \n",
            "24  /content/drive/MyDrive/Colab Notebooks/영상ᄎ...  \n",
            "25  /content/drive/MyDrive/Colab Notebooks/영상ᄎ...  \n",
            "26  /content/drive/MyDrive/Colab Notebooks/영상ᄎ...  \n",
            "27  /content/drive/MyDrive/Colab Notebooks/영상ᄎ...  \n",
            "28  /content/drive/MyDrive/Colab Notebooks/영상ᄎ...  \n",
            "29  /content/drive/MyDrive/Colab Notebooks/영상ᄎ...  \n",
            "30  /content/drive/MyDrive/Colab Notebooks/영상ᄎ...  \n",
            "31  /content/drive/MyDrive/Colab Notebooks/영상ᄎ...  \n",
            "32  /content/drive/MyDrive/Colab Notebooks/영상ᄎ...  \n",
            "33  /content/drive/MyDrive/Colab Notebooks/영상ᄎ...  \n",
            "34  /content/drive/MyDrive/Colab Notebooks/영상ᄎ...  \n",
            "35  /content/drive/MyDrive/Colab Notebooks/영상ᄎ...  \n",
            "36  /content/drive/MyDrive/Colab Notebooks/영상ᄎ...  \n",
            "37  /content/drive/MyDrive/Colab Notebooks/영상ᄎ...  \n",
            "38  /content/drive/MyDrive/Colab Notebooks/영상ᄎ...  \n",
            "39  /content/drive/MyDrive/Colab Notebooks/영상ᄎ...  \n"
          ]
        }
      ],
      "id": "JuBx6JczLIKe"
    },
    {
      "cell_type": "markdown",
      "metadata": {
        "id": "Adr6ErwFLIKe"
      },
      "source": [
        "## 2. 데이터셋 불러오기"
      ],
      "id": "Adr6ErwFLIKe"
    },
    {
      "cell_type": "code",
      "metadata": {
        "id": "L2S7JysmLIKe"
      },
      "source": [
        "from sklearn.model_selection import train_test_split\n",
        "\n",
        "def get_df():\n",
        "\n",
        "    # cvs 파일 읽어서 DataFrame으로 저장\n",
        "    df = pd.read_csv('/content/drive/MyDrive/Colab Notebooks/영상처리와딥러닝/data_mj/train.csv')\n",
        "\n",
        "    # 데이터셋을 train, val, test로 나누기\n",
        "    df_train, df_test = train_test_split(df, test_size=0.2, random_state=2359)\n",
        "    df_train, df_val = train_test_split(df_train, test_size=0.2, random_state=2359)\n",
        "\n",
        "    return df_train, df_val, df_test"
      ],
      "execution_count": null,
      "outputs": [],
      "id": "L2S7JysmLIKe"
    }
  ]
}