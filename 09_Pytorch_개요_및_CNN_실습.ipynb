{
  "nbformat": 4,
  "nbformat_minor": 0,
  "metadata": {
    "colab": {
      "provenance": [],
      "include_colab_link": true
    },
    "kernelspec": {
      "name": "python3",
      "display_name": "Python 3"
    },
    "accelerator": "GPU"
  },
  "cells": [
    {
      "cell_type": "markdown",
      "metadata": {
        "id": "view-in-github",
        "colab_type": "text"
      },
      "source": [
        "<a href=\"https://colab.research.google.com/github/choiminji-020102/Image-processing_Deep-learning/blob/main/09_Pytorch_%E1%84%80%E1%85%A2%E1%84%8B%E1%85%AD_%E1%84%86%E1%85%B5%E1%86%BE_CNN_%E1%84%89%E1%85%B5%E1%86%AF%E1%84%89%E1%85%B3%E1%86%B8.ipynb\" target=\"_parent\"><img src=\"https://colab.research.google.com/assets/colab-badge.svg\" alt=\"Open In Colab\"/></a>"
      ]
    },
    {
      "cell_type": "markdown",
      "metadata": {
        "id": "f7YmBvnLoStR"
      },
      "source": [
        "# Installation\n",
        "\n",
        "- 파이썬 버젼 체크 (Python version Check)\n",
        "- 파이토치 설치 (PyTorch Installation)\n",
        "- 쿠다 및 CuDNN 체크 (Cuda & CuDNN Check)"
      ]
    },
    {
      "cell_type": "markdown",
      "metadata": {
        "id": "06f_Mo-IqpAK"
      },
      "source": [
        "## 1. Python Version Check\n",
        "파이썬 버젼 체크"
      ]
    },
    {
      "cell_type": "code",
      "metadata": {
        "id": "RKr8deu5qQxV",
        "outputId": "2d098390-4ccf-45c4-d5b9-f20c0e7586de",
        "colab": {
          "base_uri": "https://localhost:8080/"
        }
      },
      "source": [
        "import sys\n",
        "print(sys.version)"
      ],
      "execution_count": null,
      "outputs": [
        {
          "output_type": "stream",
          "name": "stdout",
          "text": [
            "3.10.12 (main, Jun 11 2023, 05:26:28) [GCC 11.4.0]\n"
          ]
        }
      ]
    },
    {
      "cell_type": "markdown",
      "metadata": {
        "id": "fHDAz4Y1qtQR"
      },
      "source": [
        "## 2. PyTorch Installation\n",
        "- 구글 콜라브 버젼에 따라 파이토치가 설치되어 있을수도 있고 아닐 수도 있습니다.\n",
        "- 설치가 안되어 있을 경우 아래와 같은 명령어로 설치하면 됩니다.\n",
        "- !pip3 install torch torchvision"
      ]
    },
    {
      "cell_type": "code",
      "metadata": {
        "id": "MjXpmFmsoNir"
      },
      "source": [
        "import torch"
      ],
      "execution_count": null,
      "outputs": []
    },
    {
      "cell_type": "code",
      "metadata": {
        "id": "Ca5b9q88oNu_",
        "outputId": "fb64e42f-094e-4ef9-b835-383b4bf7992e",
        "colab": {
          "base_uri": "https://localhost:8080/"
        }
      },
      "source": [
        "!pip3 install torch torchvision"
      ],
      "execution_count": null,
      "outputs": [
        {
          "output_type": "stream",
          "name": "stdout",
          "text": [
            "Requirement already satisfied: torch in /usr/local/lib/python3.10/dist-packages (2.1.0+cu118)\n",
            "Requirement already satisfied: torchvision in /usr/local/lib/python3.10/dist-packages (0.16.0+cu118)\n",
            "Requirement already satisfied: filelock in /usr/local/lib/python3.10/dist-packages (from torch) (3.12.4)\n",
            "Requirement already satisfied: typing-extensions in /usr/local/lib/python3.10/dist-packages (from torch) (4.5.0)\n",
            "Requirement already satisfied: sympy in /usr/local/lib/python3.10/dist-packages (from torch) (1.12)\n",
            "Requirement already satisfied: networkx in /usr/local/lib/python3.10/dist-packages (from torch) (3.2)\n",
            "Requirement already satisfied: jinja2 in /usr/local/lib/python3.10/dist-packages (from torch) (3.1.2)\n",
            "Requirement already satisfied: fsspec in /usr/local/lib/python3.10/dist-packages (from torch) (2023.6.0)\n",
            "Requirement already satisfied: triton==2.1.0 in /usr/local/lib/python3.10/dist-packages (from torch) (2.1.0)\n",
            "Requirement already satisfied: numpy in /usr/local/lib/python3.10/dist-packages (from torchvision) (1.23.5)\n",
            "Requirement already satisfied: requests in /usr/local/lib/python3.10/dist-packages (from torchvision) (2.31.0)\n",
            "Requirement already satisfied: pillow!=8.3.*,>=5.3.0 in /usr/local/lib/python3.10/dist-packages (from torchvision) (9.4.0)\n",
            "Requirement already satisfied: MarkupSafe>=2.0 in /usr/local/lib/python3.10/dist-packages (from jinja2->torch) (2.1.3)\n",
            "Requirement already satisfied: charset-normalizer<4,>=2 in /usr/local/lib/python3.10/dist-packages (from requests->torchvision) (3.3.1)\n",
            "Requirement already satisfied: idna<4,>=2.5 in /usr/local/lib/python3.10/dist-packages (from requests->torchvision) (3.4)\n",
            "Requirement already satisfied: urllib3<3,>=1.21.1 in /usr/local/lib/python3.10/dist-packages (from requests->torchvision) (2.0.7)\n",
            "Requirement already satisfied: certifi>=2017.4.17 in /usr/local/lib/python3.10/dist-packages (from requests->torchvision) (2023.7.22)\n",
            "Requirement already satisfied: mpmath>=0.19 in /usr/local/lib/python3.10/dist-packages (from sympy->torch) (1.3.0)\n"
          ]
        }
      ]
    },
    {
      "cell_type": "markdown",
      "metadata": {
        "id": "qI5zft-7r-G5"
      },
      "source": [
        "## 3. Cuda & cudnn Version Check\n",
        "- 파이토치를 통해 각각 몇 버젼이 설치 되어있는지 확인해줍니다."
      ]
    },
    {
      "cell_type": "code",
      "metadata": {
        "id": "SWzr0ZYuoAx3",
        "outputId": "19bd1f96-83bd-4b1c-bbe5-3e06dba62869",
        "colab": {
          "base_uri": "https://localhost:8080/"
        }
      },
      "source": [
        "import torch\n",
        "\n",
        "print(\"Torch version:{}\".format(torch.__version__))\n",
        "print(\"cuda version: {}\".format(torch.version.cuda))\n",
        "print(\"cudnn version:{}\".format(torch.backends.cudnn.version()))"
      ],
      "execution_count": null,
      "outputs": [
        {
          "output_type": "stream",
          "name": "stdout",
          "text": [
            "Torch version:2.1.0+cu118\n",
            "cuda version: 11.8\n",
            "cudnn version:8700\n"
          ]
        }
      ]
    },
    {
      "cell_type": "markdown",
      "metadata": {
        "id": "HPs2iVjbsaHb"
      },
      "source": [
        "## 4. Command Line cuda & cudnn Check\n",
        "- 쿠다 및 CuDNN 버젼은 커맨드라인 명령어로도 확인 가능합니다."
      ]
    },
    {
      "cell_type": "code",
      "metadata": {
        "id": "rr-joKu0sGf5",
        "outputId": "f3eb95e1-c8f1-4121-bed6-c91a3bc5e71a",
        "colab": {
          "base_uri": "https://localhost:8080/"
        }
      },
      "source": [
        "!nvcc --version"
      ],
      "execution_count": null,
      "outputs": [
        {
          "output_type": "stream",
          "name": "stdout",
          "text": [
            "nvcc: NVIDIA (R) Cuda compiler driver\n",
            "Copyright (c) 2005-2022 NVIDIA Corporation\n",
            "Built on Wed_Sep_21_10:33:58_PDT_2022\n",
            "Cuda compilation tools, release 11.8, V11.8.89\n",
            "Build cuda_11.8.r11.8/compiler.31833905_0\n"
          ]
        }
      ]
    },
    {
      "cell_type": "code",
      "metadata": {
        "id": "7ZMgAzL3sPQ6",
        "outputId": "e44152a8-7f18-484b-b24f-a5551ff16d05",
        "colab": {
          "base_uri": "https://localhost:8080/"
        }
      },
      "source": [
        "!cat /usr/include/x86_64-linux-gnu/cudnn_v*.h | grep CUDNN_MAJOR -A 2"
      ],
      "execution_count": null,
      "outputs": [
        {
          "output_type": "stream",
          "name": "stdout",
          "text": [
            "#define CUDNN_MAJOR 8\n",
            "#define CUDNN_MINOR 9\n",
            "#define CUDNN_PATCHLEVEL 0\n",
            "--\n",
            "#define CUDNN_VERSION (CUDNN_MAJOR * 1000 + CUDNN_MINOR * 100 + CUDNN_PATCHLEVEL)\n",
            "\n",
            "/* cannot use constexpr here since this is a C-only file */\n"
          ]
        }
      ]
    },
    {
      "cell_type": "markdown",
      "metadata": {
        "id": "rPvgso5LuCWF"
      },
      "source": [
        "# 5. PyTorch CPU & GPU Tensor Check\n",
        "- 파이토치 텐서를 생성해봄으로써 제대로 설치 되었는지, 잘 동작하는지 확인해줍니다."
      ]
    },
    {
      "cell_type": "markdown",
      "metadata": {
        "id": "pBgm1epHwTSA"
      },
      "source": [
        "### 5-1 Create CPU tensor"
      ]
    },
    {
      "cell_type": "code",
      "metadata": {
        "id": "2nZVqGHxt_8D",
        "outputId": "977f853a-1c98-468d-a89e-83b7a10215c7",
        "colab": {
          "base_uri": "https://localhost:8080/"
        }
      },
      "source": [
        "# https://pytorch.org/docs/stable/torch.html?highlight=tensor#torch.tensor\n",
        "# 0으로 차있는 2x3 형태의 텐서를 생성합니다.\n",
        "cpu_tensor = torch.zeros(2,3)\n",
        "print(cpu_tensor)"
      ],
      "execution_count": null,
      "outputs": [
        {
          "output_type": "stream",
          "name": "stdout",
          "text": [
            "tensor([[0., 0., 0.],\n",
            "        [0., 0., 0.]])\n"
          ]
        }
      ]
    },
    {
      "cell_type": "markdown",
      "metadata": {
        "id": "kCxV8pxHwZc6"
      },
      "source": [
        "### 5-2 Allocate tensor on GPU"
      ]
    },
    {
      "cell_type": "code",
      "metadata": {
        "id": "uyDZg5BbuSe9",
        "outputId": "132f9764-9109-4f88-f680-48eae465602b",
        "colab": {
          "base_uri": "https://localhost:8080/"
        }
      },
      "source": [
        "# https://pytorch.org/docs/stable/tensor_attributes.html#torch.torch.device\n",
        "# 어느 장치(cpu 혹은 gpu)에 텐서를 올릴지 지정합니다.\n",
        "# 아래는 torch.device라는 함수를 사용해 gpu로 장치를 지정합니다.\n",
        "device = torch.device('cuda')\n",
        "\n",
        "# https://pytorch.org/docs/stable/cuda.html?highlight=available#torch.cuda.is_available\n",
        "# gpu가 사용 가능한지 확인해줍니다.\n",
        "if torch.cuda.is_available():\n",
        "\n",
        "  # https://pytorch.org/docs/stable/tensors.html?highlight=#torch.Tensor.to\n",
        "  # cpu에 있었던 텐서를 to 함수를 이용해 지정해놓은 장치(여기서는 gpu)로 올려줍니다.\n",
        "\n",
        "  ###################################################\n",
        "\n",
        "  # 여기에 실습 코드를 적으시오\n",
        "  gpu_tensor = cpu_tensor.to(device)\n",
        "  print(gpu_tensor)\n",
        "  ###################################################"
      ],
      "execution_count": null,
      "outputs": [
        {
          "output_type": "stream",
          "name": "stdout",
          "text": [
            "tensor([[0., 0., 0.],\n",
            "        [0., 0., 0.]], device='cuda:0')\n"
          ]
        }
      ]
    },
    {
      "cell_type": "markdown",
      "metadata": {
        "id": "cKRTa76_wiGA"
      },
      "source": [
        "### 5-3 Reallocate tensor back on CPU"
      ]
    },
    {
      "cell_type": "code",
      "metadata": {
        "id": "9NIT1b6vvf8a",
        "outputId": "1f03c927-6d91-49ff-df21-1dfe38e2651a",
        "colab": {
          "base_uri": "https://localhost:8080/"
        }
      },
      "source": [
        "# device 함수와 to 함수를 이용해 gpu에 있던 텐서를 다시 cpu로 옮겨올 수 있습니다.\n",
        "cpu_tensor_back = gpu_tensor.to(torch.device('cpu'))\n",
        "cpu_tensor_back"
      ],
      "execution_count": null,
      "outputs": [
        {
          "output_type": "execute_result",
          "data": {
            "text/plain": [
              "tensor([[0., 0., 0.],\n",
              "        [0., 0., 0.]])"
            ]
          },
          "metadata": {},
          "execution_count": 9
        }
      ]
    },
    {
      "cell_type": "markdown",
      "metadata": {
        "id": "qiVaMkwNSpCx"
      },
      "source": [
        "# 인공신경망 모델의 학습\n"
      ]
    },
    {
      "cell_type": "markdown",
      "metadata": {
        "id": "A0eJo_1TsZIw"
      },
      "source": [
        "## 필요한 라이브러리 불러오기"
      ]
    },
    {
      "cell_type": "code",
      "metadata": {
        "id": "gAIfLqxsSmrJ"
      },
      "source": [
        "import torch\n",
        "import torch.nn as nn\n",
        "import torch.optim as optim\n",
        "import torch.nn.init as init"
      ],
      "execution_count": null,
      "outputs": []
    },
    {
      "cell_type": "markdown",
      "metadata": {
        "id": "BfXQ4EJ1sR5Y"
      },
      "source": [
        "## 데이터 생성"
      ]
    },
    {
      "cell_type": "code",
      "metadata": {
        "id": "OrRWI9QBsI8U"
      },
      "source": [
        "num_data = 1000\n",
        "num_epoch = 10000\n",
        "\n",
        "noise = init.normal_(torch.FloatTensor(num_data,1),std=1)\n",
        "x = init.uniform_(torch.Tensor(num_data,1),-15,15)\n",
        "y = (x**2) + 3\n",
        "y_noise = y + noise"
      ],
      "execution_count": null,
      "outputs": []
    },
    {
      "cell_type": "markdown",
      "metadata": {
        "id": "KTNOAQgwscKV"
      },
      "source": [
        "# 모델, 손실 함수, 최적화 함수 설정"
      ]
    },
    {
      "cell_type": "code",
      "metadata": {
        "id": "FJMeNlCWsJEp"
      },
      "source": [
        "# 3장의 예시처럼 하나의 값이 들어가서 하나의 값이 나오기 때문에 모델의 처음과 끝 특성의 개수는 1개입니다.\n",
        "\n",
        "# https://pytorch.org/docs/stable/nn.html?highlight=sequential\n",
        "# torch.nn.Sequential\n",
        "# Sequential 모듈은 다양한 모듈을 담을 수 있는 일종의 리스트라고 보면 됩니다.\n",
        "# Sequential 에 정의된 순서대로 연산이 진행되며, 많은 연산을 묶어서 한번에 관리할 수 있어서 편리합니다.\n",
        "\n",
        "# 아래 코드는 특성의 개수가 1 -> 6 -> 10 -> 6 -> 1개로 변하는 인공신경망입니다.\n",
        "# 또한 선형변환 이후 활성화 함수를 넣어 비선형성이 생기도록 했습니다.\n",
        "\n",
        "###################################################\n",
        "\n",
        "# 여기에 실습 코드를 적으시오\n",
        "model = nn.Sequential(\n",
        "          nn.Linear(1, 6),\n",
        "          nn.ReLU(),\n",
        "          nn.Linear(6, 10),\n",
        "          nn.ReLU(),\n",
        "          nn.Linear(10, 6),\n",
        "          nn.ReLU(),\n",
        "          nn.Linear(6, 1),\n",
        "      )\n",
        "\n",
        "loss_func = nn.L1Loss()\n",
        "optimizer = optim.SGD(model.parameters(), lr=0.0002)\n",
        "###################################################"
      ],
      "execution_count": null,
      "outputs": []
    },
    {
      "cell_type": "markdown",
      "metadata": {
        "id": "Jsy40xAHsiQZ"
      },
      "source": [
        "## 모델의 학습"
      ]
    },
    {
      "cell_type": "code",
      "metadata": {
        "id": "o0jakOd3sJR4"
      },
      "source": [
        "loss_array = []\n",
        "\n",
        "###################################################\n",
        "\n",
        "# 여기에 실습 코드를 적으시오\n",
        "for i in range(num_epoch):\n",
        "  optimizer.zero_grad()\n",
        "  output = model(x)\n",
        "\n",
        "  loss = loss_func(output, y_noise)\n",
        "  loss.backward()\n",
        "  optimizer.step()\n",
        "\n",
        "  loss_array.append(loss.detach().numpy())\n",
        "###################################################"
      ],
      "execution_count": null,
      "outputs": []
    },
    {
      "cell_type": "markdown",
      "metadata": {
        "id": "d_F6SftPSu7v"
      },
      "source": [
        "## 손실 그래프"
      ]
    },
    {
      "cell_type": "code",
      "metadata": {
        "id": "sU4yuuC4RePA",
        "outputId": "3da73e91-f7ab-43e0-e5d6-dcd408b3c35a",
        "colab": {
          "base_uri": "https://localhost:8080/",
          "height": 432
        }
      },
      "source": [
        "import matplotlib.pyplot as plt\n",
        "\n",
        "plt.plot(loss_array)\n",
        "plt.show()"
      ],
      "execution_count": null,
      "outputs": [
        {
          "output_type": "display_data",
          "data": {
            "text/plain": [
              "<Figure size 640x480 with 1 Axes>"
            ],
            "image/png": "[encoded data removed]"
          },
          "metadata": {}
        }
      ]
    },
    {
      "cell_type": "markdown",
      "metadata": {
        "id": "VLhQK3fUSyUI"
      },
      "source": [
        "## 학습된 모델의 결과값과 실제 목표값의 비교"
      ]
    },
    {
      "cell_type": "code",
      "metadata": {
        "id": "DSd6l2zQRjGG",
        "outputId": "d05e65dc-ca55-455e-aeed-64dba3fda746",
        "colab": {
          "base_uri": "https://localhost:8080/",
          "height": 830
        }
      },
      "source": [
        "plt.figure(figsize=(10,10))\n",
        "plt.scatter(x.detach().numpy(),y_noise,label=\"Original Data\")\n",
        "plt.scatter(x.detach().numpy(),output.detach().numpy(),label=\"Model Output\")\n",
        "plt.legend()\n",
        "plt.show()"
      ],
      "execution_count": null,
      "outputs": [
        {
          "output_type": "display_data",
          "data": {
            "text/plain": [
              "<Figure size 1000x1000 with 1 Axes>"
            ],
            "image/png": "[encoded data removed]"
          },
          "metadata": {}
        }
      ]
    },
    {
      "cell_type": "markdown",
      "metadata": {
        "id": "UOuZCNJbgO8M"
      },
      "source": [
        "# 컨볼루션 인공신경망 Convolutional Neural Network\n",
        "- MNIST 데이터\n",
        "- 합성곱 연산(CNN)\n",
        "- 맥스풀링(Max Pooling)\n",
        "- 완전연결 신경망(Fully Connected Network)"
      ]
    },
    {
      "cell_type": "code",
      "metadata": {
        "id": "vFXzochygZn4",
        "outputId": "3132a4e7-3c23-4185-da8b-dcd499726942",
        "colab": {
          "base_uri": "https://localhost:8080/"
        }
      },
      "source": [
        "# 파이토치 및 토치비젼 설치\n",
        "# 런타임을 GPU 모드로 바꿔서 실행하세요\n",
        "!pip install torch torchvision"
      ],
      "execution_count": null,
      "outputs": [
        {
          "output_type": "stream",
          "name": "stdout",
          "text": [
            "Requirement already satisfied: torch in /usr/local/lib/python3.10/dist-packages (2.1.0+cu118)\n",
            "Requirement already satisfied: torchvision in /usr/local/lib/python3.10/dist-packages (0.16.0+cu118)\n",
            "Requirement already satisfied: filelock in /usr/local/lib/python3.10/dist-packages (from torch) (3.12.4)\n",
            "Requirement already satisfied: typing-extensions in /usr/local/lib/python3.10/dist-packages (from torch) (4.5.0)\n",
            "Requirement already satisfied: sympy in /usr/local/lib/python3.10/dist-packages (from torch) (1.12)\n",
            "Requirement already satisfied: networkx in /usr/local/lib/python3.10/dist-packages (from torch) (3.2)\n",
            "Requirement already satisfied: jinja2 in /usr/local/lib/python3.10/dist-packages (from torch) (3.1.2)\n",
            "Requirement already satisfied: fsspec in /usr/local/lib/python3.10/dist-packages (from torch) (2023.6.0)\n",
            "Requirement already satisfied: triton==2.1.0 in /usr/local/lib/python3.10/dist-packages (from torch) (2.1.0)\n",
            "Requirement already satisfied: numpy in /usr/local/lib/python3.10/dist-packages (from torchvision) (1.23.5)\n",
            "Requirement already satisfied: requests in /usr/local/lib/python3.10/dist-packages (from torchvision) (2.31.0)\n",
            "Requirement already satisfied: pillow!=8.3.*,>=5.3.0 in /usr/local/lib/python3.10/dist-packages (from torchvision) (9.4.0)\n",
            "Requirement already satisfied: MarkupSafe>=2.0 in /usr/local/lib/python3.10/dist-packages (from jinja2->torch) (2.1.3)\n",
            "Requirement already satisfied: charset-normalizer<4,>=2 in /usr/local/lib/python3.10/dist-packages (from requests->torchvision) (3.3.1)\n",
            "Requirement already satisfied: idna<4,>=2.5 in /usr/local/lib/python3.10/dist-packages (from requests->torchvision) (3.4)\n",
            "Requirement already satisfied: urllib3<3,>=1.21.1 in /usr/local/lib/python3.10/dist-packages (from requests->torchvision) (2.0.7)\n",
            "Requirement already satisfied: certifi>=2017.4.17 in /usr/local/lib/python3.10/dist-packages (from requests->torchvision) (2023.7.22)\n",
            "Requirement already satisfied: mpmath>=0.19 in /usr/local/lib/python3.10/dist-packages (from sympy->torch) (1.3.0)\n"
          ]
        }
      ]
    },
    {
      "cell_type": "markdown",
      "metadata": {
        "id": "ZlMbbW9BgO8O"
      },
      "source": [
        "## 1. 학습전 세팅\n",
        "### 1) 필요한 라이브러리 불러오기"
      ]
    },
    {
      "cell_type": "code",
      "metadata": {
        "id": "whIeu56bgO8P",
        "outputId": "6049fea2-e5c4-45bc-b207-6bb90ea59e26",
        "colab": {
          "base_uri": "https://localhost:8080/"
        }
      },
      "source": [
        "import torch\n",
        "import torch.nn as nn\n",
        "import torch.optim as optim\n",
        "import torch.nn.init as init\n",
        "\n",
        "# https://pytorch.org/docs/stable/torchvision/datasets.html\n",
        "# 파이토치에서는 torchvision.datasets에 MNIST 등의 다양한 데이터를 사용하기 용이하게 정리해놨습니다.\n",
        "# 이를 사용하면 데이터를 따로 학습에 맞게 정리하거나 하지 않아도 바로 사용이 가능합니다.\n",
        "import torchvision.datasets as dset\n",
        "\n",
        "# https://pytorch.org/docs/stable/torchvision/transforms.html?highlight=transforms\n",
        "# torchvision.transforms에는 이미지 데이터를 자르거나 확대 및 다양하게 변형시키는 함수들이 구현되어 있습니다.\n",
        "import torchvision.transforms as transforms\n",
        "\n",
        "# https://pytorch.org/docs/stable/data.html?highlight=dataloader#torch.utils.data.DataLoader\n",
        "# DataLoader는 전처리가 끝난 데이터들을 지정한 배치 크기에 맞게 모아서 전달해주는 역할을 합니다.\n",
        "from torch.utils.data import DataLoader\n",
        "\n",
        "import numpy as np\n",
        "import matplotlib.pyplot as plt\n",
        "\n",
        "print(torch.__version__)"
      ],
      "execution_count": null,
      "outputs": [
        {
          "output_type": "stream",
          "name": "stdout",
          "text": [
            "2.1.0+cu118\n"
          ]
        }
      ]
    },
    {
      "cell_type": "markdown",
      "metadata": {
        "id": "lt5vZrEUgO8U"
      },
      "source": [
        "### 2) 하이퍼파라미터 지정"
      ]
    },
    {
      "cell_type": "code",
      "metadata": {
        "id": "fUACXvs4gO8W"
      },
      "source": [
        "batch_size = 256\n",
        "learning_rate = 0.0002\n",
        "num_epoch = 10"
      ],
      "execution_count": null,
      "outputs": []
    },
    {
      "cell_type": "markdown",
      "metadata": {
        "id": "m2fUKQiugO8a"
      },
      "source": [
        "## 2. 데이터\n",
        "\n",
        "### 1) 데이터 다운로드"
      ]
    },
    {
      "cell_type": "code",
      "metadata": {
        "id": "epKZyEd5gO8b",
        "colab": {
          "base_uri": "https://localhost:8080/"
        },
        "outputId": "3cab3047-67e0-4b35-ff5d-4bb94a15730e"
      },
      "source": [
        "# https://pytorch.org/docs/stable/torchvision/datasets.html?highlight=mnist#torchvision.datasets.MNIST\n",
        "# 첫번째 인자 root는 데이터를 저장할 위치, train은 학습용 데이터인지 테스트용 데이터인지의 여부를 의미합니다.\n",
        "\n",
        "# MNIST 데이터는 숫자 손글씨 이미지와 이에 대한 정답 쌍으로 이루어져 있습니다.\n",
        "# transform은 이미지에 대한 변형, target_transform은 정답 라벨에 대한 변형을 의미합니다.\n",
        "# transform.ToTensor()는 PIL 이미지나 Numpy 배열을 토치 텐서로 바꿔줍니다.\n",
        "\n",
        "# download는 데이터가 저장할 위치에 없을 경우 새로 다운받을지 여부입니다.\n",
        "mnist_train = dset.MNIST(root=\"../\", train=True, transform=transforms.ToTensor(), target_transform=None, download=True)\n",
        "mnist_test = dset.MNIST(root=\"../\", train=False, transform=transforms.ToTensor(), target_transform=None, download=True)"
      ],
      "execution_count": null,
      "outputs": [
        {
          "output_type": "stream",
          "name": "stdout",
          "text": [
            "Downloading http://yann.lecun.com/exdb/mnist/train-images-idx3-ubyte.gz\n",
            "Downloading http://yann.lecun.com/exdb/mnist/train-images-idx3-ubyte.gz to ../MNIST/raw/train-images-idx3-ubyte.gz\n"
          ]
        },
        {
          "output_type": "stream",
          "name": "stderr",
          "text": [
            "100%|██████████| 9912422/9912422 [00:00<00:00, 144946436.96it/s]"
          ]
        },
        {
          "output_type": "stream",
          "name": "stdout",
          "text": [
            "Extracting ../MNIST/raw/train-images-idx3-ubyte.gz to ../MNIST/raw\n"
          ]
        },
        {
          "output_type": "stream",
          "name": "stderr",
          "text": [
            "\n"
          ]
        },
        {
          "output_type": "stream",
          "name": "stdout",
          "text": [
            "\n",
            "Downloading http://yann.lecun.com/exdb/mnist/train-labels-idx1-ubyte.gz\n",
            "Downloading http://yann.lecun.com/exdb/mnist/train-labels-idx1-ubyte.gz to ../MNIST/raw/train-labels-idx1-ubyte.gz\n"
          ]
        },
        {
          "output_type": "stream",
          "name": "stderr",
          "text": [
            "100%|██████████| 28881/28881 [00:00<00:00, 31333599.02it/s]\n"
          ]
        },
        {
          "output_type": "stream",
          "name": "stdout",
          "text": [
            "Extracting ../MNIST/raw/train-labels-idx1-ubyte.gz to ../MNIST/raw\n",
            "\n",
            "Downloading http://yann.lecun.com/exdb/mnist/t10k-images-idx3-ubyte.gz\n",
            "Downloading http://yann.lecun.com/exdb/mnist/t10k-images-idx3-ubyte.gz to ../MNIST/raw/t10k-images-idx3-ubyte.gz\n"
          ]
        },
        {
          "output_type": "stream",
          "name": "stderr",
          "text": [
            "100%|██████████| 1648877/1648877 [00:00<00:00, 36993663.46it/s]"
          ]
        },
        {
          "output_type": "stream",
          "name": "stdout",
          "text": [
            "Extracting ../MNIST/raw/t10k-images-idx3-ubyte.gz to ../MNIST/raw\n"
          ]
        },
        {
          "output_type": "stream",
          "name": "stderr",
          "text": [
            "\n"
          ]
        },
        {
          "output_type": "stream",
          "name": "stdout",
          "text": [
            "\n",
            "Downloading http://yann.lecun.com/exdb/mnist/t10k-labels-idx1-ubyte.gz\n",
            "Downloading http://yann.lecun.com/exdb/mnist/t10k-labels-idx1-ubyte.gz to ../MNIST/raw/t10k-labels-idx1-ubyte.gz\n"
          ]
        },
        {
          "output_type": "stream",
          "name": "stderr",
          "text": [
            "100%|██████████| 4542/4542 [00:00<00:00, 6260443.24it/s]\n"
          ]
        },
        {
          "output_type": "stream",
          "name": "stdout",
          "text": [
            "Extracting ../MNIST/raw/t10k-labels-idx1-ubyte.gz to ../MNIST/raw\n",
            "\n"
          ]
        }
      ]
    },
    {
      "cell_type": "markdown",
      "metadata": {
        "id": "nMKE4poIgO8e"
      },
      "source": [
        "### 2) 데이터셋 체크\n",
        "- getitem을 사용해도 되고\n",
        "- 인덱싱으로도 데이터를 확인할 수 있습니다."
      ]
    },
    {
      "cell_type": "code",
      "metadata": {
        "id": "Bb4OXGWIgO8f",
        "outputId": "ace060ab-6832-4f5d-a523-c5f4adefeb91",
        "colab": {
          "base_uri": "https://localhost:8080/"
        }
      },
      "source": [
        "print(mnist_train.__getitem__(0)[0].size(), mnist_train.__len__())\n",
        "print(mnist_test.__getitem__(0)[0].size(), mnist_test.__len__())\n",
        "\n",
        "print(len(mnist_train),len(mnist_test))\n",
        "#print(mnist_train[0])"
      ],
      "execution_count": null,
      "outputs": [
        {
          "output_type": "stream",
          "name": "stdout",
          "text": [
            "torch.Size([1, 28, 28]) 60000\n",
            "torch.Size([1, 28, 28]) 10000\n",
            "60000 10000\n"
          ]
        }
      ]
    },
    {
      "cell_type": "markdown",
      "metadata": {
        "id": "QwfoDvZugO8m"
      },
      "source": [
        "### 3) DataLoader 설정\n",
        "- 사용할 데이터\n",
        "- 배치 사이즈 (batch_size)\n",
        "- 섞을지 여부 (shuffle)\n",
        "- 사용할 프로세스 개수 (num_workers)\n",
        "- 마지막에 남는 데이터의 처리 여부 (drop_last)"
      ]
    },
    {
      "cell_type": "code",
      "metadata": {
        "id": "XVXTTAtqgO8o"
      },
      "source": [
        "# https://pytorch.org/docs/stable/data.html?highlight=dataloader#torch.utils.data.DataLoader\n",
        "\n",
        "###################################################\n",
        "\n",
        "# 여기에 실습 코드를 적으시오\n",
        "train_loader = DataLoader(mnist_train, batch_size=batch_size, shuffle=True, num_workers=2, drop_last=True)\n",
        "test_loader = DataLoader(mnist_test, batch_size=batch_size, shuffle=False, num_workers=2, drop_last=True)\n",
        "\n",
        "###################################################\n"
      ],
      "execution_count": null,
      "outputs": []
    },
    {
      "cell_type": "markdown",
      "metadata": {
        "id": "Tf-jvTNggO8r"
      },
      "source": [
        "## 3. 모델, 손실함수, 최적화함수\n",
        "\n",
        "### 1) CNN 모델\n",
        "\n",
        "- 실습 코드는 PPT 참고"
      ]
    },
    {
      "cell_type": "code",
      "metadata": {
        "id": "Q2gmbH3AgO8t"
      },
      "source": [
        "# https://pytorch.org/docs/stable/nn.html?highlight=conv2d#torch.nn.Conv2d\n",
        "# https://pytorch.org/docs/stable/tensors.html?highlight=view#torch.Tensor.view\n",
        "\n",
        "\n",
        "###################################################\n",
        "\n",
        "# 여기에 실습 코드를 적으시오\n",
        "class CNN(nn.Module):\n",
        "  def __init__(self):\n",
        "    super(CNN, self).__init__()\n",
        "    self.layer = nn.Sequential(\n",
        "\n",
        "        nn.Conv2d(in_channels=1, out_channels=16, kernel_size=5),\n",
        "        nn.ReLU(),\n",
        "        nn.Conv2d(in_channels=16, out_channels=32, kernel_size=5),\n",
        "        nn.ReLU(),\n",
        "        nn.MaxPool2d(kernel_size=2, stride=2),\n",
        "        nn.Conv2d(in_channels=32, out_channels=64, kernel_size=5),\n",
        "        nn.ReLU(),\n",
        "        nn.MaxPool2d(kernel_size=2, stride=2)\n",
        "    )\n",
        "    self.fc_layer = nn.Sequential(\n",
        "        nn.Linear(3*3*64, 100),\n",
        "        nn.ReLU(),\n",
        "        nn.Linear(100, 10)\n",
        "    )\n",
        "\n",
        "  def forward(self, x):\n",
        "    out = self.layer(x)\n",
        "    out = out.view(batch_size, -1)\n",
        "\n",
        "    out = self.fc_layer(out)\n",
        "    return out\n",
        "###################################################\n"
      ],
      "execution_count": null,
      "outputs": []
    },
    {
      "cell_type": "markdown",
      "metadata": {
        "id": "fDPJnQS8gO8y"
      },
      "source": [
        "### 2) 손실함수 & 최적화함수"
      ]
    },
    {
      "cell_type": "code",
      "metadata": {
        "id": "fZ56zT9PgO8y",
        "outputId": "2bc4b43b-d254-4198-e3e9-f10256f76969",
        "colab": {
          "base_uri": "https://localhost:8080/"
        }
      },
      "source": [
        "# gpu가 사용 가능한 경우에는 device를 gpu로 설정하고 불가능하면 cpu로 설정합니다.\n",
        "device = torch.device(\"cuda:0\" if torch.cuda.is_available() else \"cpu\")\n",
        "print(device)\n",
        "\n",
        "# 모델을 지정한 장치로 올립니다.\n",
        "model = CNN().to(device)\n",
        "\n",
        "# 손실함수로는 크로스엔트로피를 사용합니다.\n",
        "loss_func = nn.CrossEntropyLoss()\n",
        "\n",
        "# 최적화함수로는 Adam을 사용합니다.\n",
        "optimizer = torch.optim.Adam(model.parameters(), lr=learning_rate)"
      ],
      "execution_count": null,
      "outputs": [
        {
          "output_type": "stream",
          "name": "stdout",
          "text": [
            "cuda:0\n"
          ]
        }
      ]
    },
    {
      "cell_type": "markdown",
      "metadata": {
        "id": "P5DHl_cOgO82"
      },
      "source": [
        "## 4. 학습"
      ]
    },
    {
      "cell_type": "code",
      "metadata": {
        "id": "AtsQ3UHzgO83",
        "outputId": "41edd40b-9943-4258-a7da-f91340b4086b",
        "colab": {
          "base_uri": "https://localhost:8080/"
        }
      },
      "source": [
        "loss_arr =[]\n",
        "\n",
        "###################################################\n",
        "\n",
        "# 여기에 실습 코드를 적으시오\n",
        "for i in range(num_epoch):\n",
        "  for j, [image, label] in enumerate(train_loader):\n",
        "    x = image.to(device)\n",
        "    y_ = label.to(device)\n",
        "\n",
        "    optimizer.zero_grad()\n",
        "    output = model.forward(x)\n",
        "    loss = loss_func(output, y_)\n",
        "    loss.backward()\n",
        "    optimizer.step()\n",
        "\n",
        "    if j % 1000 == 0:\n",
        "      print(loss)\n",
        "      loss_arr.append(loss.cpu().detach().numpy())\n",
        "###################################################\n"
      ],
      "execution_count": null,
      "outputs": [
        {
          "output_type": "stream",
          "name": "stdout",
          "text": [
            "tensor(2.2955, device='cuda:0', grad_fn=<NllLossBackward0>)\n",
            "tensor(0.2544, device='cuda:0', grad_fn=<NllLossBackward0>)\n",
            "tensor(0.1192, device='cuda:0', grad_fn=<NllLossBackward0>)\n",
            "tensor(0.0656, device='cuda:0', grad_fn=<NllLossBackward0>)\n",
            "tensor(0.0839, device='cuda:0', grad_fn=<NllLossBackward0>)\n",
            "tensor(0.0333, device='cuda:0', grad_fn=<NllLossBackward0>)\n",
            "tensor(0.0434, device='cuda:0', grad_fn=<NllLossBackward0>)\n",
            "tensor(0.0386, device='cuda:0', grad_fn=<NllLossBackward0>)\n",
            "tensor(0.0482, device='cuda:0', grad_fn=<NllLossBackward0>)\n",
            "tensor(0.0724, device='cuda:0', grad_fn=<NllLossBackward0>)\n"
          ]
        }
      ]
    },
    {
      "cell_type": "code",
      "source": [
        "#param_list = list(model.parameters())\n",
        "#print(param_list)"
      ],
      "metadata": {
        "id": "SbQYeZ-QyrIF"
      },
      "execution_count": null,
      "outputs": []
    },
    {
      "cell_type": "markdown",
      "metadata": {
        "id": "Oy_VtVa0gO8-"
      },
      "source": [
        "## 5. 학습시 손실 시각화"
      ]
    },
    {
      "cell_type": "code",
      "source": [
        "plt.plot(loss_arr)\n",
        "plt.show()"
      ],
      "metadata": {
        "id": "22viqvP0ytu-"
      },
      "execution_count": null,
      "outputs": []
    },
    {
      "cell_type": "markdown",
      "metadata": {
        "id": "1pXaYCUXgO9F"
      },
      "source": [
        "## 6. 테스트 데이터 정확도 측정"
      ]
    },
    {
      "cell_type": "code",
      "source": [
        "# 맞은 개수, 전체 개수를 저장할 변수를 지정합니다.\n",
        "correct = 0\n",
        "total = 0\n",
        "\n",
        "\n",
        "###################################################\n",
        "\n",
        "# 여기에 실습 코드를 적으시오\n",
        "with torch.no_grad():\n",
        "  for image, label in test_loader:\n",
        "\n",
        "    x = image.to(device)\n",
        "    y_ = label.to(device)\n",
        "\n",
        "    output = model.forward(x)\n",
        "\n",
        "    _, output_index = torch.max(output, 1)\n",
        "\n",
        "    total += label.size(0)\n",
        "\n",
        "    correct += (output_index == y_).sum().float()\n",
        "\n",
        "  print(\"Accuracy of Test Data: {}%\".format(100*correct/total))\n",
        "###################################################\n"
      ],
      "metadata": {
        "id": "LR6v1LCCyxp-"
      },
      "execution_count": null,
      "outputs": []
    },
    {
      "cell_type": "markdown",
      "metadata": {
        "id": "hZ87c_hx6iib"
      },
      "source": [
        "# 실습 과제\n",
        "\n",
        "### CNN 모델을 수정해보고, MNIST 판별 정확도 99%를 달성해 보시오.\n"
      ]
    },
    {
      "cell_type": "code",
      "metadata": {
        "id": "IO79CKh9DdUb"
      },
      "source": [
        "# https://pytorch.org/docs/stable/nn.html?highlight=conv2d#torch.nn.Conv2d\n",
        "# https://pytorch.org/docs/stable/tensors.html?highlight=view#torch.Tensor.view\n",
        "\n",
        "\n",
        "###################################################\n",
        "\n",
        "# 여기에 실습 코드를 적으시오\n",
        "class CNN(nn.Module):\n",
        "  def __init__(self):\n",
        "    super(CNN, self).__init__()\n",
        "    self.layer = nn.Sequential(\n",
        "\n",
        "        nn.Conv2d(in_channels=1, out_channels=16, kernel_size=3), #26,26,16\n",
        "        nn.ReLU(),\n",
        "        nn.Conv2d(in_channels=16, out_channels=32, kernel_size=3), #24,24,32\n",
        "        nn.ReLU(),\n",
        "        nn.MaxPool2d(kernel_size=2, stride=2), #12,12,32\n",
        "        nn.Conv2d(in_channels=32, out_channels=64, kernel_size=3), #10,10,64\n",
        "        nn.ReLU(),\n",
        "        nn.Conv2d(in_channels=64, out_channels=128, kernel_size=3), #8,8,128\n",
        "        nn.ReLU(),\n",
        "        nn.MaxPool2d(kernel_size=2, stride=2) #4,4,128\n",
        "    )\n",
        "    self.fc_layer = nn.Sequential(\n",
        "        nn.Linear(4*4*128, 100),\n",
        "        nn.ReLU(),\n",
        "        nn.Linear(100, 10)\n",
        "    )\n",
        "\n",
        "  def forward(self, x):\n",
        "    out = self.layer(x)\n",
        "    out = out.view(batch_size, -1)\n",
        "\n",
        "    out = self.fc_layer(out)\n",
        "    return out\n",
        "###################################################\n"
      ],
      "execution_count": null,
      "outputs": []
    },
    {
      "cell_type": "code",
      "metadata": {
        "outputId": "f7e67279-576a-4976-8f97-6e893310e880",
        "colab": {
          "base_uri": "https://localhost:8080/"
        },
        "id": "0mOyXIWWyk9P"
      },
      "source": [
        "loss_arr =[]\n",
        "\n",
        "###################################################\n",
        "\n",
        "# 여기에 실습 코드를 적으시오\n",
        "for i in range(num_epoch):\n",
        "  for j, [image, label] in enumerate(train_loader):\n",
        "    x = image.to(device)\n",
        "    y_ = label.to(device)\n",
        "\n",
        "    optimizer.zero_grad()\n",
        "    output = model.forward(x)\n",
        "    loss = loss_func(output, y_)\n",
        "    loss.backward()\n",
        "    optimizer.step()\n",
        "\n",
        "    if j % 1000 == 0:\n",
        "      print(loss)\n",
        "      loss_arr.append(loss.cpu().detach().numpy())\n",
        "###################################################\n"
      ],
      "execution_count": null,
      "outputs": [
        {
          "output_type": "stream",
          "name": "stdout",
          "text": [
            "tensor(0.0238, device='cuda:0', grad_fn=<NllLossBackward0>)\n",
            "tensor(0.0138, device='cuda:0', grad_fn=<NllLossBackward0>)\n",
            "tensor(0.0314, device='cuda:0', grad_fn=<NllLossBackward0>)\n",
            "tensor(0.0246, device='cuda:0', grad_fn=<NllLossBackward0>)\n",
            "tensor(0.0089, device='cuda:0', grad_fn=<NllLossBackward0>)\n",
            "tensor(0.0230, device='cuda:0', grad_fn=<NllLossBackward0>)\n",
            "tensor(0.0923, device='cuda:0', grad_fn=<NllLossBackward0>)\n",
            "tensor(0.0153, device='cuda:0', grad_fn=<NllLossBackward0>)\n",
            "tensor(0.0155, device='cuda:0', grad_fn=<NllLossBackward0>)\n",
            "tensor(0.0115, device='cuda:0', grad_fn=<NllLossBackward0>)\n"
          ]
        }
      ]
    },
    {
      "cell_type": "markdown",
      "metadata": {
        "id": "1qXF2W-2yk9Q"
      },
      "source": [
        "## 5. 학습시 손실 시각화"
      ]
    },
    {
      "cell_type": "code",
      "metadata": {
        "colab": {
          "base_uri": "https://localhost:8080/",
          "height": 430
        },
        "id": "aDsJoccAyk9R",
        "outputId": "b71fae03-7453-4402-a346-8a6cc3981e7e"
      },
      "source": [
        "plt.plot(loss_arr)\n",
        "plt.show()"
      ],
      "execution_count": null,
      "outputs": [
        {
          "output_type": "display_data",
          "data": {
            "text/plain": [
              "<Figure size 640x480 with 1 Axes>"
            ],
            "image/png": "[encoded data removed]"
          },
          "metadata": {}
        }
      ]
    },
    {
      "cell_type": "markdown",
      "metadata": {
        "id": "FOuAhfKsyk9R"
      },
      "source": [
        "## 6. 테스트 데이터 정확도 측정"
      ]
    },
    {
      "cell_type": "code",
      "metadata": {
        "colab": {
          "base_uri": "https://localhost:8080/"
        },
        "id": "2HTPxAqYyk9R",
        "outputId": "83699c5e-62bc-497e-e619-799c02033b5b"
      },
      "source": [
        "# 맞은 개수, 전체 개수를 저장할 변수를 지정합니다.\n",
        "correct = 0\n",
        "total = 0\n",
        "\n",
        "\n",
        "###################################################\n",
        "\n",
        "# 여기에 실습 코드를 적으시오\n",
        "with torch.no_grad():\n",
        "  for image, label in test_loader:\n",
        "\n",
        "    x = image.to(device)\n",
        "    y_ = label.to(device)\n",
        "\n",
        "    output = model.forward(x)\n",
        "\n",
        "    _, output_index = torch.max(output, 1)\n",
        "\n",
        "    total += label.size(0)\n",
        "\n",
        "    correct += (output_index == y_).sum().float()\n",
        "\n",
        "  print(\"Accuracy of Test Data: {}%\".format(100*correct/total))\n",
        "###################################################\n",
        "\n"
      ],
      "execution_count": null,
      "outputs": [
        {
          "output_type": "stream",
          "name": "stdout",
          "text": [
            "Accuracy of Test Data: 99.21875%\n"
          ]
        }
      ]
    }
  ]
}